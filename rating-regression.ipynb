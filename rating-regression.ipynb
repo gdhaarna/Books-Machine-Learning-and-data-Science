{
 "cells": [
  {
   "cell_type": "code",
   "execution_count": 1,
   "id": "bb8c40a6",
   "metadata": {
    "execution": {
     "iopub.execute_input": "2023-05-23T16:17:23.094933Z",
     "iopub.status.busy": "2023-05-23T16:17:23.094442Z",
     "iopub.status.idle": "2023-05-23T16:17:24.790031Z",
     "shell.execute_reply": "2023-05-23T16:17:24.788709Z"
    },
    "papermill": {
     "duration": 1.713357,
     "end_time": "2023-05-23T16:17:24.793177",
     "exception": false,
     "start_time": "2023-05-23T16:17:23.079820",
     "status": "completed"
    },
    "tags": []
   },
   "outputs": [
    {
     "name": "stderr",
     "output_type": "stream",
     "text": [
      "/opt/conda/lib/python3.10/site-packages/scipy/__init__.py:146: UserWarning: A NumPy version >=1.16.5 and <1.23.0 is required for this version of SciPy (detected version 1.23.5\n",
      "  warnings.warn(f\"A NumPy version >={np_minversion} and <{np_maxversion}\"\n"
     ]
    }
   ],
   "source": [
    "import pandas as pd\n",
    "import numpy as np\n",
    "from matplotlib import pyplot as plt\n",
    "%matplotlib inline\n",
    "import seaborn as sns\n",
    "from sklearn.model_selection import train_test_split #splits data into train and test\n",
    "from sklearn.linear_model import LinearRegression"
   ]
  },
  {
   "cell_type": "code",
   "execution_count": null,
   "id": "580c56d8",
   "metadata": {
    "papermill": {
     "duration": 0.01097,
     "end_time": "2023-05-23T16:17:24.815150",
     "exception": false,
     "start_time": "2023-05-23T16:17:24.804180",
     "status": "completed"
    },
    "tags": []
   },
   "outputs": [],
   "source": []
  },
  {
   "cell_type": "code",
   "execution_count": 2,
   "id": "2344c4b0",
   "metadata": {
    "execution": {
     "iopub.execute_input": "2023-05-23T16:17:24.839230Z",
     "iopub.status.busy": "2023-05-23T16:17:24.838384Z",
     "iopub.status.idle": "2023-05-23T16:17:24.912711Z",
     "shell.execute_reply": "2023-05-23T16:17:24.911618Z"
    },
    "papermill": {
     "duration": 0.089289,
     "end_time": "2023-05-23T16:17:24.915113",
     "exception": false,
     "start_time": "2023-05-23T16:17:24.825824",
     "status": "completed"
    },
    "tags": []
   },
   "outputs": [],
   "source": [
    "df=pd.read_csv('/kaggle/input/video-games/games.csv')"
   ]
  },
  {
   "cell_type": "code",
   "execution_count": 3,
   "id": "cc376579",
   "metadata": {
    "execution": {
     "iopub.execute_input": "2023-05-23T16:17:24.939010Z",
     "iopub.status.busy": "2023-05-23T16:17:24.938409Z",
     "iopub.status.idle": "2023-05-23T16:17:24.944788Z",
     "shell.execute_reply": "2023-05-23T16:17:24.944020Z"
    },
    "papermill": {
     "duration": 0.020716,
     "end_time": "2023-05-23T16:17:24.946868",
     "exception": false,
     "start_time": "2023-05-23T16:17:24.926152",
     "status": "completed"
    },
    "tags": []
   },
   "outputs": [
    {
     "data": {
      "text/plain": [
       "(20580, 8)"
      ]
     },
     "execution_count": 3,
     "metadata": {},
     "output_type": "execute_result"
    }
   ],
   "source": [
    "df.shape"
   ]
  },
  {
   "cell_type": "code",
   "execution_count": 4,
   "id": "42ba42ed",
   "metadata": {
    "execution": {
     "iopub.execute_input": "2023-05-23T16:17:24.970332Z",
     "iopub.status.busy": "2023-05-23T16:17:24.969926Z",
     "iopub.status.idle": "2023-05-23T16:17:25.008735Z",
     "shell.execute_reply": "2023-05-23T16:17:25.007686Z"
    },
    "papermill": {
     "duration": 0.053373,
     "end_time": "2023-05-23T16:17:25.011277",
     "exception": false,
     "start_time": "2023-05-23T16:17:24.957904",
     "status": "completed"
    },
    "tags": []
   },
   "outputs": [
    {
     "data": {
      "text/html": [
       "<div>\n",
       "<style scoped>\n",
       "    .dataframe tbody tr th:only-of-type {\n",
       "        vertical-align: middle;\n",
       "    }\n",
       "\n",
       "    .dataframe tbody tr th {\n",
       "        vertical-align: top;\n",
       "    }\n",
       "\n",
       "    .dataframe thead th {\n",
       "        text-align: right;\n",
       "    }\n",
       "</style>\n",
       "<table border=\"1\" class=\"dataframe\">\n",
       "  <thead>\n",
       "    <tr style=\"text-align: right;\">\n",
       "      <th></th>\n",
       "      <th>id</th>\n",
       "      <th>name</th>\n",
       "      <th>released</th>\n",
       "      <th>added</th>\n",
       "      <th>playtime</th>\n",
       "      <th>reviews_count</th>\n",
       "      <th>ratings_count</th>\n",
       "      <th>rating</th>\n",
       "    </tr>\n",
       "  </thead>\n",
       "  <tbody>\n",
       "    <tr>\n",
       "      <th>11326</th>\n",
       "      <td>17982</td>\n",
       "      <td>Adventurezator: When Pigs Fly</td>\n",
       "      <td>2015-09-17</td>\n",
       "      <td>138</td>\n",
       "      <td>3</td>\n",
       "      <td>2</td>\n",
       "      <td>2</td>\n",
       "      <td>0.00</td>\n",
       "    </tr>\n",
       "    <tr>\n",
       "      <th>18601</th>\n",
       "      <td>62518</td>\n",
       "      <td>SG/ZH: School Girl/Zombie Hunter</td>\n",
       "      <td>2018-06-05</td>\n",
       "      <td>57</td>\n",
       "      <td>3</td>\n",
       "      <td>3</td>\n",
       "      <td>3</td>\n",
       "      <td>0.00</td>\n",
       "    </tr>\n",
       "    <tr>\n",
       "      <th>8503</th>\n",
       "      <td>746</td>\n",
       "      <td>Destroy All Humans! 2</td>\n",
       "      <td>2006-10-17</td>\n",
       "      <td>223</td>\n",
       "      <td>0</td>\n",
       "      <td>46</td>\n",
       "      <td>45</td>\n",
       "      <td>3.67</td>\n",
       "    </tr>\n",
       "    <tr>\n",
       "      <th>19592</th>\n",
       "      <td>573923</td>\n",
       "      <td>Friday Night Funkin' (with my 2 favorites mods)</td>\n",
       "      <td>2021-03-17</td>\n",
       "      <td>50</td>\n",
       "      <td>0</td>\n",
       "      <td>24</td>\n",
       "      <td>23</td>\n",
       "      <td>4.04</td>\n",
       "    </tr>\n",
       "    <tr>\n",
       "      <th>3101</th>\n",
       "      <td>2266</td>\n",
       "      <td>Full Mojo Rampage</td>\n",
       "      <td>2013-08-16</td>\n",
       "      <td>960</td>\n",
       "      <td>2</td>\n",
       "      <td>43</td>\n",
       "      <td>43</td>\n",
       "      <td>2.42</td>\n",
       "    </tr>\n",
       "    <tr>\n",
       "      <th>7115</th>\n",
       "      <td>18528</td>\n",
       "      <td>Epic Battle Fantasy 3</td>\n",
       "      <td>2016-09-01</td>\n",
       "      <td>297</td>\n",
       "      <td>1</td>\n",
       "      <td>17</td>\n",
       "      <td>17</td>\n",
       "      <td>3.59</td>\n",
       "    </tr>\n",
       "    <tr>\n",
       "      <th>6029</th>\n",
       "      <td>300689</td>\n",
       "      <td>Tails of Iron</td>\n",
       "      <td>2021-09-17</td>\n",
       "      <td>388</td>\n",
       "      <td>5</td>\n",
       "      <td>65</td>\n",
       "      <td>65</td>\n",
       "      <td>4.03</td>\n",
       "    </tr>\n",
       "    <tr>\n",
       "      <th>4748</th>\n",
       "      <td>44064</td>\n",
       "      <td>Loading Screen Simulator</td>\n",
       "      <td>2017-07-13</td>\n",
       "      <td>562</td>\n",
       "      <td>1</td>\n",
       "      <td>66</td>\n",
       "      <td>65</td>\n",
       "      <td>2.38</td>\n",
       "    </tr>\n",
       "    <tr>\n",
       "      <th>3692</th>\n",
       "      <td>47525</td>\n",
       "      <td>Disneyland Adventures</td>\n",
       "      <td>2017-10-31</td>\n",
       "      <td>779</td>\n",
       "      <td>1</td>\n",
       "      <td>97</td>\n",
       "      <td>97</td>\n",
       "      <td>2.47</td>\n",
       "    </tr>\n",
       "    <tr>\n",
       "      <th>15573</th>\n",
       "      <td>1900</td>\n",
       "      <td>Spectromancer</td>\n",
       "      <td>2009-02-11</td>\n",
       "      <td>83</td>\n",
       "      <td>2</td>\n",
       "      <td>8</td>\n",
       "      <td>8</td>\n",
       "      <td>3.62</td>\n",
       "    </tr>\n",
       "  </tbody>\n",
       "</table>\n",
       "</div>"
      ],
      "text/plain": [
       "           id                                             name    released  \\\n",
       "11326   17982                    Adventurezator: When Pigs Fly  2015-09-17   \n",
       "18601   62518                 SG/ZH: School Girl/Zombie Hunter  2018-06-05   \n",
       "8503      746                            Destroy All Humans! 2  2006-10-17   \n",
       "19592  573923  Friday Night Funkin' (with my 2 favorites mods)  2021-03-17   \n",
       "3101     2266                                Full Mojo Rampage  2013-08-16   \n",
       "7115    18528                            Epic Battle Fantasy 3  2016-09-01   \n",
       "6029   300689                                    Tails of Iron  2021-09-17   \n",
       "4748    44064                         Loading Screen Simulator  2017-07-13   \n",
       "3692    47525                            Disneyland Adventures  2017-10-31   \n",
       "15573    1900                                    Spectromancer  2009-02-11   \n",
       "\n",
       "       added  playtime  reviews_count  ratings_count  rating  \n",
       "11326    138         3              2              2    0.00  \n",
       "18601     57         3              3              3    0.00  \n",
       "8503     223         0             46             45    3.67  \n",
       "19592     50         0             24             23    4.04  \n",
       "3101     960         2             43             43    2.42  \n",
       "7115     297         1             17             17    3.59  \n",
       "6029     388         5             65             65    4.03  \n",
       "4748     562         1             66             65    2.38  \n",
       "3692     779         1             97             97    2.47  \n",
       "15573     83         2              8              8    3.62  "
      ]
     },
     "execution_count": 4,
     "metadata": {},
     "output_type": "execute_result"
    }
   ],
   "source": [
    "df.sample(10)"
   ]
  },
  {
   "cell_type": "code",
   "execution_count": 5,
   "id": "4d2412dd",
   "metadata": {
    "execution": {
     "iopub.execute_input": "2023-05-23T16:17:25.035565Z",
     "iopub.status.busy": "2023-05-23T16:17:25.034688Z",
     "iopub.status.idle": "2023-05-23T16:17:25.068141Z",
     "shell.execute_reply": "2023-05-23T16:17:25.067143Z"
    },
    "papermill": {
     "duration": 0.047926,
     "end_time": "2023-05-23T16:17:25.070362",
     "exception": false,
     "start_time": "2023-05-23T16:17:25.022436",
     "status": "completed"
    },
    "tags": []
   },
   "outputs": [
    {
     "data": {
      "text/html": [
       "<div>\n",
       "<style scoped>\n",
       "    .dataframe tbody tr th:only-of-type {\n",
       "        vertical-align: middle;\n",
       "    }\n",
       "\n",
       "    .dataframe tbody tr th {\n",
       "        vertical-align: top;\n",
       "    }\n",
       "\n",
       "    .dataframe thead th {\n",
       "        text-align: right;\n",
       "    }\n",
       "</style>\n",
       "<table border=\"1\" class=\"dataframe\">\n",
       "  <thead>\n",
       "    <tr style=\"text-align: right;\">\n",
       "      <th></th>\n",
       "      <th>id</th>\n",
       "      <th>added</th>\n",
       "      <th>playtime</th>\n",
       "      <th>reviews_count</th>\n",
       "      <th>ratings_count</th>\n",
       "      <th>rating</th>\n",
       "    </tr>\n",
       "  </thead>\n",
       "  <tbody>\n",
       "    <tr>\n",
       "      <th>count</th>\n",
       "      <td>20580.000000</td>\n",
       "      <td>20580.000000</td>\n",
       "      <td>20580.000000</td>\n",
       "      <td>20580.000000</td>\n",
       "      <td>20580.000000</td>\n",
       "      <td>20580.000000</td>\n",
       "    </tr>\n",
       "    <tr>\n",
       "      <th>mean</th>\n",
       "      <td>99829.712974</td>\n",
       "      <td>681.082313</td>\n",
       "      <td>3.394704</td>\n",
       "      <td>106.611370</td>\n",
       "      <td>105.464431</td>\n",
       "      <td>2.209226</td>\n",
       "    </tr>\n",
       "    <tr>\n",
       "      <th>std</th>\n",
       "      <td>181760.561898</td>\n",
       "      <td>1509.210518</td>\n",
       "      <td>11.109085</td>\n",
       "      <td>338.262309</td>\n",
       "      <td>334.656611</td>\n",
       "      <td>1.673076</td>\n",
       "    </tr>\n",
       "    <tr>\n",
       "      <th>min</th>\n",
       "      <td>1.000000</td>\n",
       "      <td>45.000000</td>\n",
       "      <td>0.000000</td>\n",
       "      <td>0.000000</td>\n",
       "      <td>0.000000</td>\n",
       "      <td>0.000000</td>\n",
       "    </tr>\n",
       "    <tr>\n",
       "      <th>25%</th>\n",
       "      <td>13411.750000</td>\n",
       "      <td>84.000000</td>\n",
       "      <td>1.000000</td>\n",
       "      <td>4.000000</td>\n",
       "      <td>4.000000</td>\n",
       "      <td>0.000000</td>\n",
       "    </tr>\n",
       "    <tr>\n",
       "      <th>50%</th>\n",
       "      <td>21393.500000</td>\n",
       "      <td>161.000000</td>\n",
       "      <td>2.000000</td>\n",
       "      <td>13.000000</td>\n",
       "      <td>13.000000</td>\n",
       "      <td>2.820000</td>\n",
       "    </tr>\n",
       "    <tr>\n",
       "      <th>75%</th>\n",
       "      <td>54124.000000</td>\n",
       "      <td>496.000000</td>\n",
       "      <td>4.000000</td>\n",
       "      <td>49.000000</td>\n",
       "      <td>48.000000</td>\n",
       "      <td>3.670000</td>\n",
       "    </tr>\n",
       "    <tr>\n",
       "      <th>max</th>\n",
       "      <td>960912.000000</td>\n",
       "      <td>19385.000000</td>\n",
       "      <td>900.000000</td>\n",
       "      <td>6421.000000</td>\n",
       "      <td>6332.000000</td>\n",
       "      <td>4.800000</td>\n",
       "    </tr>\n",
       "  </tbody>\n",
       "</table>\n",
       "</div>"
      ],
      "text/plain": [
       "                  id         added      playtime  reviews_count  \\\n",
       "count   20580.000000  20580.000000  20580.000000   20580.000000   \n",
       "mean    99829.712974    681.082313      3.394704     106.611370   \n",
       "std    181760.561898   1509.210518     11.109085     338.262309   \n",
       "min         1.000000     45.000000      0.000000       0.000000   \n",
       "25%     13411.750000     84.000000      1.000000       4.000000   \n",
       "50%     21393.500000    161.000000      2.000000      13.000000   \n",
       "75%     54124.000000    496.000000      4.000000      49.000000   \n",
       "max    960912.000000  19385.000000    900.000000    6421.000000   \n",
       "\n",
       "       ratings_count        rating  \n",
       "count   20580.000000  20580.000000  \n",
       "mean      105.464431      2.209226  \n",
       "std       334.656611      1.673076  \n",
       "min         0.000000      0.000000  \n",
       "25%         4.000000      0.000000  \n",
       "50%        13.000000      2.820000  \n",
       "75%        48.000000      3.670000  \n",
       "max      6332.000000      4.800000  "
      ]
     },
     "execution_count": 5,
     "metadata": {},
     "output_type": "execute_result"
    }
   ],
   "source": [
    "df.describe()"
   ]
  },
  {
   "cell_type": "code",
   "execution_count": 6,
   "id": "944b54ff",
   "metadata": {
    "execution": {
     "iopub.execute_input": "2023-05-23T16:17:25.094709Z",
     "iopub.status.busy": "2023-05-23T16:17:25.094312Z",
     "iopub.status.idle": "2023-05-23T16:17:25.142733Z",
     "shell.execute_reply": "2023-05-23T16:17:25.141539Z"
    },
    "papermill": {
     "duration": 0.063889,
     "end_time": "2023-05-23T16:17:25.145633",
     "exception": false,
     "start_time": "2023-05-23T16:17:25.081744",
     "status": "completed"
    },
    "tags": []
   },
   "outputs": [
    {
     "data": {
      "text/html": [
       "<div>\n",
       "<style scoped>\n",
       "    .dataframe tbody tr th:only-of-type {\n",
       "        vertical-align: middle;\n",
       "    }\n",
       "\n",
       "    .dataframe tbody tr th {\n",
       "        vertical-align: top;\n",
       "    }\n",
       "\n",
       "    .dataframe thead th {\n",
       "        text-align: right;\n",
       "    }\n",
       "</style>\n",
       "<table border=\"1\" class=\"dataframe\">\n",
       "  <thead>\n",
       "    <tr style=\"text-align: right;\">\n",
       "      <th></th>\n",
       "      <th>id</th>\n",
       "      <th>name</th>\n",
       "      <th>released</th>\n",
       "      <th>added</th>\n",
       "      <th>playtime</th>\n",
       "      <th>reviews_count</th>\n",
       "      <th>ratings_count</th>\n",
       "      <th>rating</th>\n",
       "      <th>release_year</th>\n",
       "      <th>release_day_of_week</th>\n",
       "      <th>release_month</th>\n",
       "    </tr>\n",
       "  </thead>\n",
       "  <tbody>\n",
       "    <tr>\n",
       "      <th>0</th>\n",
       "      <td>3498</td>\n",
       "      <td>Grand Theft Auto V</td>\n",
       "      <td>2013-09-17</td>\n",
       "      <td>19385</td>\n",
       "      <td>73</td>\n",
       "      <td>6421</td>\n",
       "      <td>6332</td>\n",
       "      <td>4.47</td>\n",
       "      <td>2013.0</td>\n",
       "      <td>Tuesday</td>\n",
       "      <td>September</td>\n",
       "    </tr>\n",
       "    <tr>\n",
       "      <th>1</th>\n",
       "      <td>3328</td>\n",
       "      <td>The Witcher 3: Wild Hunt</td>\n",
       "      <td>2015-05-18</td>\n",
       "      <td>18567</td>\n",
       "      <td>46</td>\n",
       "      <td>6122</td>\n",
       "      <td>6029</td>\n",
       "      <td>4.66</td>\n",
       "      <td>2015.0</td>\n",
       "      <td>Monday</td>\n",
       "      <td>May</td>\n",
       "    </tr>\n",
       "    <tr>\n",
       "      <th>2</th>\n",
       "      <td>4200</td>\n",
       "      <td>Portal 2</td>\n",
       "      <td>2011-04-18</td>\n",
       "      <td>17494</td>\n",
       "      <td>11</td>\n",
       "      <td>5310</td>\n",
       "      <td>5263</td>\n",
       "      <td>4.62</td>\n",
       "      <td>2011.0</td>\n",
       "      <td>Monday</td>\n",
       "      <td>April</td>\n",
       "    </tr>\n",
       "    <tr>\n",
       "      <th>3</th>\n",
       "      <td>5286</td>\n",
       "      <td>Tomb Raider (2013)</td>\n",
       "      <td>2013-03-05</td>\n",
       "      <td>15290</td>\n",
       "      <td>10</td>\n",
       "      <td>3686</td>\n",
       "      <td>3660</td>\n",
       "      <td>4.05</td>\n",
       "      <td>2013.0</td>\n",
       "      <td>Tuesday</td>\n",
       "      <td>March</td>\n",
       "    </tr>\n",
       "    <tr>\n",
       "      <th>4</th>\n",
       "      <td>4291</td>\n",
       "      <td>Counter-Strike: Global Offensive</td>\n",
       "      <td>2012-08-21</td>\n",
       "      <td>15174</td>\n",
       "      <td>65</td>\n",
       "      <td>3267</td>\n",
       "      <td>3236</td>\n",
       "      <td>3.57</td>\n",
       "      <td>2012.0</td>\n",
       "      <td>Tuesday</td>\n",
       "      <td>August</td>\n",
       "    </tr>\n",
       "    <tr>\n",
       "      <th>5</th>\n",
       "      <td>13536</td>\n",
       "      <td>Portal</td>\n",
       "      <td>2007-10-09</td>\n",
       "      <td>14864</td>\n",
       "      <td>4</td>\n",
       "      <td>4428</td>\n",
       "      <td>4392</td>\n",
       "      <td>4.51</td>\n",
       "      <td>2007.0</td>\n",
       "      <td>Tuesday</td>\n",
       "      <td>October</td>\n",
       "    </tr>\n",
       "    <tr>\n",
       "      <th>6</th>\n",
       "      <td>12020</td>\n",
       "      <td>Left 4 Dead 2</td>\n",
       "      <td>2009-11-17</td>\n",
       "      <td>14818</td>\n",
       "      <td>9</td>\n",
       "      <td>3078</td>\n",
       "      <td>3060</td>\n",
       "      <td>4.09</td>\n",
       "      <td>2009.0</td>\n",
       "      <td>Tuesday</td>\n",
       "      <td>November</td>\n",
       "    </tr>\n",
       "    <tr>\n",
       "      <th>7</th>\n",
       "      <td>5679</td>\n",
       "      <td>The Elder Scrolls V: Skyrim</td>\n",
       "      <td>2011-11-11</td>\n",
       "      <td>14654</td>\n",
       "      <td>46</td>\n",
       "      <td>4375</td>\n",
       "      <td>4332</td>\n",
       "      <td>4.42</td>\n",
       "      <td>2011.0</td>\n",
       "      <td>Friday</td>\n",
       "      <td>November</td>\n",
       "    </tr>\n",
       "    <tr>\n",
       "      <th>8</th>\n",
       "      <td>4062</td>\n",
       "      <td>BioShock Infinite</td>\n",
       "      <td>2013-03-26</td>\n",
       "      <td>14150</td>\n",
       "      <td>12</td>\n",
       "      <td>3829</td>\n",
       "      <td>3792</td>\n",
       "      <td>4.39</td>\n",
       "      <td>2013.0</td>\n",
       "      <td>Tuesday</td>\n",
       "      <td>March</td>\n",
       "    </tr>\n",
       "    <tr>\n",
       "      <th>9</th>\n",
       "      <td>28</td>\n",
       "      <td>Red Dead Redemption 2</td>\n",
       "      <td>2018-10-26</td>\n",
       "      <td>14059</td>\n",
       "      <td>19</td>\n",
       "      <td>4616</td>\n",
       "      <td>4524</td>\n",
       "      <td>4.59</td>\n",
       "      <td>2018.0</td>\n",
       "      <td>Friday</td>\n",
       "      <td>October</td>\n",
       "    </tr>\n",
       "  </tbody>\n",
       "</table>\n",
       "</div>"
      ],
      "text/plain": [
       "      id                              name   released  added  playtime  \\\n",
       "0   3498                Grand Theft Auto V 2013-09-17  19385        73   \n",
       "1   3328          The Witcher 3: Wild Hunt 2015-05-18  18567        46   \n",
       "2   4200                          Portal 2 2011-04-18  17494        11   \n",
       "3   5286                Tomb Raider (2013) 2013-03-05  15290        10   \n",
       "4   4291  Counter-Strike: Global Offensive 2012-08-21  15174        65   \n",
       "5  13536                            Portal 2007-10-09  14864         4   \n",
       "6  12020                     Left 4 Dead 2 2009-11-17  14818         9   \n",
       "7   5679       The Elder Scrolls V: Skyrim 2011-11-11  14654        46   \n",
       "8   4062                 BioShock Infinite 2013-03-26  14150        12   \n",
       "9     28             Red Dead Redemption 2 2018-10-26  14059        19   \n",
       "\n",
       "   reviews_count  ratings_count  rating  release_year release_day_of_week  \\\n",
       "0           6421           6332    4.47        2013.0             Tuesday   \n",
       "1           6122           6029    4.66        2015.0              Monday   \n",
       "2           5310           5263    4.62        2011.0              Monday   \n",
       "3           3686           3660    4.05        2013.0             Tuesday   \n",
       "4           3267           3236    3.57        2012.0             Tuesday   \n",
       "5           4428           4392    4.51        2007.0             Tuesday   \n",
       "6           3078           3060    4.09        2009.0             Tuesday   \n",
       "7           4375           4332    4.42        2011.0              Friday   \n",
       "8           3829           3792    4.39        2013.0             Tuesday   \n",
       "9           4616           4524    4.59        2018.0              Friday   \n",
       "\n",
       "  release_month  \n",
       "0     September  \n",
       "1           May  \n",
       "2         April  \n",
       "3         March  \n",
       "4        August  \n",
       "5       October  \n",
       "6      November  \n",
       "7      November  \n",
       "8         March  \n",
       "9       October  "
      ]
     },
     "execution_count": 6,
     "metadata": {},
     "output_type": "execute_result"
    }
   ],
   "source": [
    "df['released'] = pd.to_datetime(df['released'])\n",
    "df['release_year'] = df['released'].dt.year\n",
    "df['release_day_of_week'] = df['released'].dt.day_name()\n",
    "df['release_month'] = df['released'].dt.month_name()\n",
    "df.head(10)"
   ]
  },
  {
   "cell_type": "code",
   "execution_count": 7,
   "id": "75dda328",
   "metadata": {
    "execution": {
     "iopub.execute_input": "2023-05-23T16:17:25.171606Z",
     "iopub.status.busy": "2023-05-23T16:17:25.171247Z",
     "iopub.status.idle": "2023-05-23T16:17:25.180086Z",
     "shell.execute_reply": "2023-05-23T16:17:25.179260Z"
    },
    "papermill": {
     "duration": 0.024858,
     "end_time": "2023-05-23T16:17:25.182208",
     "exception": false,
     "start_time": "2023-05-23T16:17:25.157350",
     "status": "completed"
    },
    "tags": []
   },
   "outputs": [],
   "source": [
    "df=df.drop(['name'],axis=1)"
   ]
  },
  {
   "cell_type": "code",
   "execution_count": 8,
   "id": "a887f3f7",
   "metadata": {
    "execution": {
     "iopub.execute_input": "2023-05-23T16:17:25.207744Z",
     "iopub.status.busy": "2023-05-23T16:17:25.206630Z",
     "iopub.status.idle": "2023-05-23T16:17:25.214490Z",
     "shell.execute_reply": "2023-05-23T16:17:25.213611Z"
    },
    "papermill": {
     "duration": 0.022795,
     "end_time": "2023-05-23T16:17:25.216514",
     "exception": false,
     "start_time": "2023-05-23T16:17:25.193719",
     "status": "completed"
    },
    "tags": []
   },
   "outputs": [],
   "source": [
    "df=df.drop(['id'],axis=1)"
   ]
  },
  {
   "cell_type": "code",
   "execution_count": 9,
   "id": "e9b4cb13",
   "metadata": {
    "execution": {
     "iopub.execute_input": "2023-05-23T16:17:25.242028Z",
     "iopub.status.busy": "2023-05-23T16:17:25.240914Z",
     "iopub.status.idle": "2023-05-23T16:17:25.248251Z",
     "shell.execute_reply": "2023-05-23T16:17:25.247443Z"
    },
    "papermill": {
     "duration": 0.022237,
     "end_time": "2023-05-23T16:17:25.250429",
     "exception": false,
     "start_time": "2023-05-23T16:17:25.228192",
     "status": "completed"
    },
    "tags": []
   },
   "outputs": [],
   "source": [
    "df=df.drop(['released'],axis=1)"
   ]
  },
  {
   "cell_type": "code",
   "execution_count": 10,
   "id": "2d0a4f58",
   "metadata": {
    "execution": {
     "iopub.execute_input": "2023-05-23T16:17:25.275632Z",
     "iopub.status.busy": "2023-05-23T16:17:25.274746Z",
     "iopub.status.idle": "2023-05-23T16:17:25.617911Z",
     "shell.execute_reply": "2023-05-23T16:17:25.616742Z"
    },
    "papermill": {
     "duration": 0.358664,
     "end_time": "2023-05-23T16:17:25.620687",
     "exception": false,
     "start_time": "2023-05-23T16:17:25.262023",
     "status": "completed"
    },
    "tags": []
   },
   "outputs": [
    {
     "data": {
      "text/plain": [
       "<AxesSubplot: xlabel='playtime', ylabel='rating'>"
      ]
     },
     "execution_count": 10,
     "metadata": {},
     "output_type": "execute_result"
    },
    {
     "data": {
      "image/png": "[encoded data removed]",
      "text/plain": [
       "<Figure size 640x480 with 1 Axes>"
      ]
     },
     "metadata": {},
     "output_type": "display_data"
    }
   ],
   "source": [
    "sns.scatterplot(x='playtime',y='rating',data=df)"
   ]
  },
  {
   "cell_type": "code",
   "execution_count": 11,
   "id": "e8b8fa15",
   "metadata": {
    "execution": {
     "iopub.execute_input": "2023-05-23T16:17:25.647533Z",
     "iopub.status.busy": "2023-05-23T16:17:25.646770Z",
     "iopub.status.idle": "2023-05-23T16:17:25.995211Z",
     "shell.execute_reply": "2023-05-23T16:17:25.994323Z"
    },
    "papermill": {
     "duration": 0.364309,
     "end_time": "2023-05-23T16:17:25.997308",
     "exception": false,
     "start_time": "2023-05-23T16:17:25.632999",
     "status": "completed"
    },
    "tags": []
   },
   "outputs": [
    {
     "data": {
      "text/plain": [
       "<AxesSubplot: xlabel='added', ylabel='rating'>"
      ]
     },
     "execution_count": 11,
     "metadata": {},
     "output_type": "execute_result"
    },
    {
     "data": {
      "image/png": "[encoded data removed]",
      "text/plain": [
       "<Figure size 640x480 with 1 Axes>"
      ]
     },
     "metadata": {},
     "output_type": "display_data"
    }
   ],
   "source": [
    "sns.scatterplot(x='added',y='rating',data=df)"
   ]
  },
  {
   "cell_type": "code",
   "execution_count": 12,
   "id": "92854025",
   "metadata": {
    "execution": {
     "iopub.execute_input": "2023-05-23T16:17:26.026546Z",
     "iopub.status.busy": "2023-05-23T16:17:26.025960Z",
     "iopub.status.idle": "2023-05-23T16:17:26.041261Z",
     "shell.execute_reply": "2023-05-23T16:17:26.040472Z"
    },
    "papermill": {
     "duration": 0.03259,
     "end_time": "2023-05-23T16:17:26.043551",
     "exception": false,
     "start_time": "2023-05-23T16:17:26.010961",
     "status": "completed"
    },
    "scrolled": true,
    "tags": []
   },
   "outputs": [],
   "source": [
    "df=pd.get_dummies(df,columns=['release_day_of_week'])"
   ]
  },
  {
   "cell_type": "code",
   "execution_count": 13,
   "id": "7f933c6f",
   "metadata": {
    "execution": {
     "iopub.execute_input": "2023-05-23T16:17:26.074060Z",
     "iopub.status.busy": "2023-05-23T16:17:26.072826Z",
     "iopub.status.idle": "2023-05-23T16:17:26.087691Z",
     "shell.execute_reply": "2023-05-23T16:17:26.086598Z"
    },
    "papermill": {
     "duration": 0.032611,
     "end_time": "2023-05-23T16:17:26.090178",
     "exception": false,
     "start_time": "2023-05-23T16:17:26.057567",
     "status": "completed"
    },
    "tags": []
   },
   "outputs": [],
   "source": [
    "df=pd.get_dummies(df,columns=['release_month'])"
   ]
  },
  {
   "cell_type": "code",
   "execution_count": 14,
   "id": "277c7acc",
   "metadata": {
    "execution": {
     "iopub.execute_input": "2023-05-23T16:17:26.120729Z",
     "iopub.status.busy": "2023-05-23T16:17:26.120346Z",
     "iopub.status.idle": "2023-05-23T16:17:26.144289Z",
     "shell.execute_reply": "2023-05-23T16:17:26.143183Z"
    },
    "papermill": {
     "duration": 0.042726,
     "end_time": "2023-05-23T16:17:26.147194",
     "exception": false,
     "start_time": "2023-05-23T16:17:26.104468",
     "status": "completed"
    },
    "tags": []
   },
   "outputs": [
    {
     "data": {
      "text/html": [
       "<div>\n",
       "<style scoped>\n",
       "    .dataframe tbody tr th:only-of-type {\n",
       "        vertical-align: middle;\n",
       "    }\n",
       "\n",
       "    .dataframe tbody tr th {\n",
       "        vertical-align: top;\n",
       "    }\n",
       "\n",
       "    .dataframe thead th {\n",
       "        text-align: right;\n",
       "    }\n",
       "</style>\n",
       "<table border=\"1\" class=\"dataframe\">\n",
       "  <thead>\n",
       "    <tr style=\"text-align: right;\">\n",
       "      <th></th>\n",
       "      <th>added</th>\n",
       "      <th>playtime</th>\n",
       "      <th>reviews_count</th>\n",
       "      <th>ratings_count</th>\n",
       "      <th>rating</th>\n",
       "      <th>release_year</th>\n",
       "      <th>release_day_of_week_Friday</th>\n",
       "      <th>release_day_of_week_Monday</th>\n",
       "      <th>release_day_of_week_Saturday</th>\n",
       "      <th>release_day_of_week_Sunday</th>\n",
       "      <th>...</th>\n",
       "      <th>release_month_December</th>\n",
       "      <th>release_month_February</th>\n",
       "      <th>release_month_January</th>\n",
       "      <th>release_month_July</th>\n",
       "      <th>release_month_June</th>\n",
       "      <th>release_month_March</th>\n",
       "      <th>release_month_May</th>\n",
       "      <th>release_month_November</th>\n",
       "      <th>release_month_October</th>\n",
       "      <th>release_month_September</th>\n",
       "    </tr>\n",
       "  </thead>\n",
       "  <tbody>\n",
       "    <tr>\n",
       "      <th>15540</th>\n",
       "      <td>83</td>\n",
       "      <td>1</td>\n",
       "      <td>3</td>\n",
       "      <td>3</td>\n",
       "      <td>0.00</td>\n",
       "      <td>2016.0</td>\n",
       "      <td>0</td>\n",
       "      <td>1</td>\n",
       "      <td>0</td>\n",
       "      <td>0</td>\n",
       "      <td>...</td>\n",
       "      <td>0</td>\n",
       "      <td>0</td>\n",
       "      <td>0</td>\n",
       "      <td>0</td>\n",
       "      <td>0</td>\n",
       "      <td>0</td>\n",
       "      <td>0</td>\n",
       "      <td>0</td>\n",
       "      <td>0</td>\n",
       "      <td>0</td>\n",
       "    </tr>\n",
       "    <tr>\n",
       "      <th>15628</th>\n",
       "      <td>82</td>\n",
       "      <td>2</td>\n",
       "      <td>1</td>\n",
       "      <td>1</td>\n",
       "      <td>0.00</td>\n",
       "      <td>NaN</td>\n",
       "      <td>0</td>\n",
       "      <td>0</td>\n",
       "      <td>0</td>\n",
       "      <td>0</td>\n",
       "      <td>...</td>\n",
       "      <td>0</td>\n",
       "      <td>0</td>\n",
       "      <td>0</td>\n",
       "      <td>0</td>\n",
       "      <td>0</td>\n",
       "      <td>0</td>\n",
       "      <td>0</td>\n",
       "      <td>0</td>\n",
       "      <td>0</td>\n",
       "      <td>0</td>\n",
       "    </tr>\n",
       "    <tr>\n",
       "      <th>17725</th>\n",
       "      <td>64</td>\n",
       "      <td>1</td>\n",
       "      <td>2</td>\n",
       "      <td>2</td>\n",
       "      <td>0.00</td>\n",
       "      <td>2018.0</td>\n",
       "      <td>0</td>\n",
       "      <td>1</td>\n",
       "      <td>0</td>\n",
       "      <td>0</td>\n",
       "      <td>...</td>\n",
       "      <td>0</td>\n",
       "      <td>1</td>\n",
       "      <td>0</td>\n",
       "      <td>0</td>\n",
       "      <td>0</td>\n",
       "      <td>0</td>\n",
       "      <td>0</td>\n",
       "      <td>0</td>\n",
       "      <td>0</td>\n",
       "      <td>0</td>\n",
       "    </tr>\n",
       "    <tr>\n",
       "      <th>693</th>\n",
       "      <td>7533</td>\n",
       "      <td>10</td>\n",
       "      <td>1743</td>\n",
       "      <td>1717</td>\n",
       "      <td>4.32</td>\n",
       "      <td>2017.0</td>\n",
       "      <td>0</td>\n",
       "      <td>1</td>\n",
       "      <td>0</td>\n",
       "      <td>0</td>\n",
       "      <td>...</td>\n",
       "      <td>0</td>\n",
       "      <td>0</td>\n",
       "      <td>1</td>\n",
       "      <td>0</td>\n",
       "      <td>0</td>\n",
       "      <td>0</td>\n",
       "      <td>0</td>\n",
       "      <td>0</td>\n",
       "      <td>0</td>\n",
       "      <td>0</td>\n",
       "    </tr>\n",
       "    <tr>\n",
       "      <th>17565</th>\n",
       "      <td>66</td>\n",
       "      <td>1</td>\n",
       "      <td>2</td>\n",
       "      <td>2</td>\n",
       "      <td>0.00</td>\n",
       "      <td>2013.0</td>\n",
       "      <td>0</td>\n",
       "      <td>0</td>\n",
       "      <td>0</td>\n",
       "      <td>0</td>\n",
       "      <td>...</td>\n",
       "      <td>0</td>\n",
       "      <td>0</td>\n",
       "      <td>0</td>\n",
       "      <td>0</td>\n",
       "      <td>0</td>\n",
       "      <td>0</td>\n",
       "      <td>0</td>\n",
       "      <td>1</td>\n",
       "      <td>0</td>\n",
       "      <td>0</td>\n",
       "    </tr>\n",
       "    <tr>\n",
       "      <th>7970</th>\n",
       "      <td>248</td>\n",
       "      <td>1</td>\n",
       "      <td>11</td>\n",
       "      <td>11</td>\n",
       "      <td>3.36</td>\n",
       "      <td>2019.0</td>\n",
       "      <td>1</td>\n",
       "      <td>0</td>\n",
       "      <td>0</td>\n",
       "      <td>0</td>\n",
       "      <td>...</td>\n",
       "      <td>0</td>\n",
       "      <td>0</td>\n",
       "      <td>0</td>\n",
       "      <td>1</td>\n",
       "      <td>0</td>\n",
       "      <td>0</td>\n",
       "      <td>0</td>\n",
       "      <td>0</td>\n",
       "      <td>0</td>\n",
       "      <td>0</td>\n",
       "    </tr>\n",
       "    <tr>\n",
       "      <th>19167</th>\n",
       "      <td>53</td>\n",
       "      <td>1</td>\n",
       "      <td>1</td>\n",
       "      <td>1</td>\n",
       "      <td>0.00</td>\n",
       "      <td>2019.0</td>\n",
       "      <td>0</td>\n",
       "      <td>0</td>\n",
       "      <td>0</td>\n",
       "      <td>0</td>\n",
       "      <td>...</td>\n",
       "      <td>0</td>\n",
       "      <td>1</td>\n",
       "      <td>0</td>\n",
       "      <td>0</td>\n",
       "      <td>0</td>\n",
       "      <td>0</td>\n",
       "      <td>0</td>\n",
       "      <td>0</td>\n",
       "      <td>0</td>\n",
       "      <td>0</td>\n",
       "    </tr>\n",
       "    <tr>\n",
       "      <th>15786</th>\n",
       "      <td>81</td>\n",
       "      <td>1</td>\n",
       "      <td>8</td>\n",
       "      <td>8</td>\n",
       "      <td>2.88</td>\n",
       "      <td>1994.0</td>\n",
       "      <td>0</td>\n",
       "      <td>0</td>\n",
       "      <td>1</td>\n",
       "      <td>0</td>\n",
       "      <td>...</td>\n",
       "      <td>0</td>\n",
       "      <td>0</td>\n",
       "      <td>1</td>\n",
       "      <td>0</td>\n",
       "      <td>0</td>\n",
       "      <td>0</td>\n",
       "      <td>0</td>\n",
       "      <td>0</td>\n",
       "      <td>0</td>\n",
       "      <td>0</td>\n",
       "    </tr>\n",
       "    <tr>\n",
       "      <th>14779</th>\n",
       "      <td>89</td>\n",
       "      <td>1</td>\n",
       "      <td>0</td>\n",
       "      <td>0</td>\n",
       "      <td>0.00</td>\n",
       "      <td>2021.0</td>\n",
       "      <td>0</td>\n",
       "      <td>0</td>\n",
       "      <td>0</td>\n",
       "      <td>0</td>\n",
       "      <td>...</td>\n",
       "      <td>0</td>\n",
       "      <td>0</td>\n",
       "      <td>0</td>\n",
       "      <td>1</td>\n",
       "      <td>0</td>\n",
       "      <td>0</td>\n",
       "      <td>0</td>\n",
       "      <td>0</td>\n",
       "      <td>0</td>\n",
       "      <td>0</td>\n",
       "    </tr>\n",
       "    <tr>\n",
       "      <th>5961</th>\n",
       "      <td>395</td>\n",
       "      <td>1</td>\n",
       "      <td>52</td>\n",
       "      <td>52</td>\n",
       "      <td>3.77</td>\n",
       "      <td>2021.0</td>\n",
       "      <td>0</td>\n",
       "      <td>0</td>\n",
       "      <td>0</td>\n",
       "      <td>0</td>\n",
       "      <td>...</td>\n",
       "      <td>0</td>\n",
       "      <td>0</td>\n",
       "      <td>1</td>\n",
       "      <td>0</td>\n",
       "      <td>0</td>\n",
       "      <td>0</td>\n",
       "      <td>0</td>\n",
       "      <td>0</td>\n",
       "      <td>0</td>\n",
       "      <td>0</td>\n",
       "    </tr>\n",
       "  </tbody>\n",
       "</table>\n",
       "<p>10 rows × 25 columns</p>\n",
       "</div>"
      ],
      "text/plain": [
       "       added  playtime  reviews_count  ratings_count  rating  release_year  \\\n",
       "15540     83         1              3              3    0.00        2016.0   \n",
       "15628     82         2              1              1    0.00           NaN   \n",
       "17725     64         1              2              2    0.00        2018.0   \n",
       "693     7533        10           1743           1717    4.32        2017.0   \n",
       "17565     66         1              2              2    0.00        2013.0   \n",
       "7970     248         1             11             11    3.36        2019.0   \n",
       "19167     53         1              1              1    0.00        2019.0   \n",
       "15786     81         1              8              8    2.88        1994.0   \n",
       "14779     89         1              0              0    0.00        2021.0   \n",
       "5961     395         1             52             52    3.77        2021.0   \n",
       "\n",
       "       release_day_of_week_Friday  release_day_of_week_Monday  \\\n",
       "15540                           0                           1   \n",
       "15628                           0                           0   \n",
       "17725                           0                           1   \n",
       "693                             0                           1   \n",
       "17565                           0                           0   \n",
       "7970                            1                           0   \n",
       "19167                           0                           0   \n",
       "15786                           0                           0   \n",
       "14779                           0                           0   \n",
       "5961                            0                           0   \n",
       "\n",
       "       release_day_of_week_Saturday  release_day_of_week_Sunday  ...  \\\n",
       "15540                             0                           0  ...   \n",
       "15628                             0                           0  ...   \n",
       "17725                             0                           0  ...   \n",
       "693                               0                           0  ...   \n",
       "17565                             0                           0  ...   \n",
       "7970                              0                           0  ...   \n",
       "19167                             0                           0  ...   \n",
       "15786                             1                           0  ...   \n",
       "14779                             0                           0  ...   \n",
       "5961                              0                           0  ...   \n",
       "\n",
       "       release_month_December  release_month_February  release_month_January  \\\n",
       "15540                       0                       0                      0   \n",
       "15628                       0                       0                      0   \n",
       "17725                       0                       1                      0   \n",
       "693                         0                       0                      1   \n",
       "17565                       0                       0                      0   \n",
       "7970                        0                       0                      0   \n",
       "19167                       0                       1                      0   \n",
       "15786                       0                       0                      1   \n",
       "14779                       0                       0                      0   \n",
       "5961                        0                       0                      1   \n",
       "\n",
       "       release_month_July  release_month_June  release_month_March  \\\n",
       "15540                   0                   0                    0   \n",
       "15628                   0                   0                    0   \n",
       "17725                   0                   0                    0   \n",
       "693                     0                   0                    0   \n",
       "17565                   0                   0                    0   \n",
       "7970                    1                   0                    0   \n",
       "19167                   0                   0                    0   \n",
       "15786                   0                   0                    0   \n",
       "14779                   1                   0                    0   \n",
       "5961                    0                   0                    0   \n",
       "\n",
       "       release_month_May  release_month_November  release_month_October  \\\n",
       "15540                  0                       0                      0   \n",
       "15628                  0                       0                      0   \n",
       "17725                  0                       0                      0   \n",
       "693                    0                       0                      0   \n",
       "17565                  0                       1                      0   \n",
       "7970                   0                       0                      0   \n",
       "19167                  0                       0                      0   \n",
       "15786                  0                       0                      0   \n",
       "14779                  0                       0                      0   \n",
       "5961                   0                       0                      0   \n",
       "\n",
       "       release_month_September  \n",
       "15540                        0  \n",
       "15628                        0  \n",
       "17725                        0  \n",
       "693                          0  \n",
       "17565                        0  \n",
       "7970                         0  \n",
       "19167                        0  \n",
       "15786                        0  \n",
       "14779                        0  \n",
       "5961                         0  \n",
       "\n",
       "[10 rows x 25 columns]"
      ]
     },
     "execution_count": 14,
     "metadata": {},
     "output_type": "execute_result"
    }
   ],
   "source": [
    "df.sample(10)"
   ]
  },
  {
   "cell_type": "code",
   "execution_count": 15,
   "id": "b8377e75",
   "metadata": {
    "execution": {
     "iopub.execute_input": "2023-05-23T16:17:26.178799Z",
     "iopub.status.busy": "2023-05-23T16:17:26.177692Z",
     "iopub.status.idle": "2023-05-23T16:17:30.640998Z",
     "shell.execute_reply": "2023-05-23T16:17:30.639828Z"
    },
    "papermill": {
     "duration": 4.482936,
     "end_time": "2023-05-23T16:17:30.644675",
     "exception": false,
     "start_time": "2023-05-23T16:17:26.161739",
     "status": "completed"
    },
    "tags": []
   },
   "outputs": [
    {
     "data": {
      "image/png": "[encoded data removed]",
      "text/plain": [
       "<Figure size 2000x4000 with 25 Axes>"
      ]
     },
     "metadata": {},
     "output_type": "display_data"
    }
   ],
   "source": [
    "df.hist(figsize=(20,40))\n",
    "plt.show()"
   ]
  },
  {
   "cell_type": "markdown",
   "id": "3c79cb70",
   "metadata": {
    "papermill": {
     "duration": 0.017164,
     "end_time": "2023-05-23T16:17:30.679620",
     "exception": false,
     "start_time": "2023-05-23T16:17:30.662456",
     "status": "completed"
    },
    "tags": []
   },
   "source": [
    "## linear regression without removing outliers"
   ]
  },
  {
   "cell_type": "code",
   "execution_count": 16,
   "id": "df083c7e",
   "metadata": {
    "execution": {
     "iopub.execute_input": "2023-05-23T16:17:30.716787Z",
     "iopub.status.busy": "2023-05-23T16:17:30.716347Z",
     "iopub.status.idle": "2023-05-23T16:17:30.726254Z",
     "shell.execute_reply": "2023-05-23T16:17:30.725189Z"
    },
    "papermill": {
     "duration": 0.031425,
     "end_time": "2023-05-23T16:17:30.728629",
     "exception": false,
     "start_time": "2023-05-23T16:17:30.697204",
     "status": "completed"
    },
    "tags": []
   },
   "outputs": [
    {
     "data": {
      "text/plain": [
       "added                              0\n",
       "playtime                           0\n",
       "reviews_count                      0\n",
       "ratings_count                      0\n",
       "rating                             0\n",
       "release_year                     686\n",
       "release_day_of_week_Friday         0\n",
       "release_day_of_week_Monday         0\n",
       "release_day_of_week_Saturday       0\n",
       "release_day_of_week_Sunday         0\n",
       "release_day_of_week_Thursday       0\n",
       "release_day_of_week_Tuesday        0\n",
       "release_day_of_week_Wednesday      0\n",
       "release_month_April                0\n",
       "release_month_August               0\n",
       "release_month_December             0\n",
       "release_month_February             0\n",
       "release_month_January              0\n",
       "release_month_July                 0\n",
       "release_month_June                 0\n",
       "release_month_March                0\n",
       "release_month_May                  0\n",
       "release_month_November             0\n",
       "release_month_October              0\n",
       "release_month_September            0\n",
       "dtype: int64"
      ]
     },
     "execution_count": 16,
     "metadata": {},
     "output_type": "execute_result"
    }
   ],
   "source": [
    "df.isnull().sum()"
   ]
  },
  {
   "cell_type": "code",
   "execution_count": 17,
   "id": "c3227f70",
   "metadata": {
    "execution": {
     "iopub.execute_input": "2023-05-23T16:17:30.766528Z",
     "iopub.status.busy": "2023-05-23T16:17:30.766151Z",
     "iopub.status.idle": "2023-05-23T16:17:33.369386Z",
     "shell.execute_reply": "2023-05-23T16:17:33.368091Z"
    },
    "papermill": {
     "duration": 2.625193,
     "end_time": "2023-05-23T16:17:33.371965",
     "exception": false,
     "start_time": "2023-05-23T16:17:30.746772",
     "status": "completed"
    },
    "tags": []
   },
   "outputs": [],
   "source": [
    "for i in range(0, 20580):\n",
    "    if pd.isna(df.loc[i, 'release_year']):\n",
    "        df = df.drop(i)"
   ]
  },
  {
   "cell_type": "code",
   "execution_count": 18,
   "id": "8d5e7322",
   "metadata": {
    "execution": {
     "iopub.execute_input": "2023-05-23T16:17:33.410138Z",
     "iopub.status.busy": "2023-05-23T16:17:33.409551Z",
     "iopub.status.idle": "2023-05-23T16:17:33.419281Z",
     "shell.execute_reply": "2023-05-23T16:17:33.418209Z"
    },
    "papermill": {
     "duration": 0.031493,
     "end_time": "2023-05-23T16:17:33.421395",
     "exception": false,
     "start_time": "2023-05-23T16:17:33.389902",
     "status": "completed"
    },
    "tags": []
   },
   "outputs": [
    {
     "data": {
      "text/plain": [
       "added                            0\n",
       "playtime                         0\n",
       "reviews_count                    0\n",
       "ratings_count                    0\n",
       "rating                           0\n",
       "release_year                     0\n",
       "release_day_of_week_Friday       0\n",
       "release_day_of_week_Monday       0\n",
       "release_day_of_week_Saturday     0\n",
       "release_day_of_week_Sunday       0\n",
       "release_day_of_week_Thursday     0\n",
       "release_day_of_week_Tuesday      0\n",
       "release_day_of_week_Wednesday    0\n",
       "release_month_April              0\n",
       "release_month_August             0\n",
       "release_month_December           0\n",
       "release_month_February           0\n",
       "release_month_January            0\n",
       "release_month_July               0\n",
       "release_month_June               0\n",
       "release_month_March              0\n",
       "release_month_May                0\n",
       "release_month_November           0\n",
       "release_month_October            0\n",
       "release_month_September          0\n",
       "dtype: int64"
      ]
     },
     "execution_count": 18,
     "metadata": {},
     "output_type": "execute_result"
    }
   ],
   "source": [
    "df.isnull().sum()"
   ]
  },
  {
   "cell_type": "code",
   "execution_count": 19,
   "id": "1722e10f",
   "metadata": {
    "execution": {
     "iopub.execute_input": "2023-05-23T16:17:33.459276Z",
     "iopub.status.busy": "2023-05-23T16:17:33.458553Z",
     "iopub.status.idle": "2023-05-23T16:17:33.466275Z",
     "shell.execute_reply": "2023-05-23T16:17:33.465346Z"
    },
    "papermill": {
     "duration": 0.028636,
     "end_time": "2023-05-23T16:17:33.468140",
     "exception": false,
     "start_time": "2023-05-23T16:17:33.439504",
     "status": "completed"
    },
    "tags": []
   },
   "outputs": [
    {
     "data": {
      "text/plain": [
       "added                              int64\n",
       "playtime                           int64\n",
       "reviews_count                      int64\n",
       "ratings_count                      int64\n",
       "rating                           float64\n",
       "release_year                     float64\n",
       "release_day_of_week_Friday         uint8\n",
       "release_day_of_week_Monday         uint8\n",
       "release_day_of_week_Saturday       uint8\n",
       "release_day_of_week_Sunday         uint8\n",
       "release_day_of_week_Thursday       uint8\n",
       "release_day_of_week_Tuesday        uint8\n",
       "release_day_of_week_Wednesday      uint8\n",
       "release_month_April                uint8\n",
       "release_month_August               uint8\n",
       "release_month_December             uint8\n",
       "release_month_February             uint8\n",
       "release_month_January              uint8\n",
       "release_month_July                 uint8\n",
       "release_month_June                 uint8\n",
       "release_month_March                uint8\n",
       "release_month_May                  uint8\n",
       "release_month_November             uint8\n",
       "release_month_October              uint8\n",
       "release_month_September            uint8\n",
       "dtype: object"
      ]
     },
     "execution_count": 19,
     "metadata": {},
     "output_type": "execute_result"
    }
   ],
   "source": [
    "df.dtypes"
   ]
  },
  {
   "cell_type": "code",
   "execution_count": 20,
   "id": "85f2bd08",
   "metadata": {
    "execution": {
     "iopub.execute_input": "2023-05-23T16:17:33.505499Z",
     "iopub.status.busy": "2023-05-23T16:17:33.504895Z",
     "iopub.status.idle": "2023-05-23T16:17:33.510774Z",
     "shell.execute_reply": "2023-05-23T16:17:33.510017Z"
    },
    "papermill": {
     "duration": 0.027039,
     "end_time": "2023-05-23T16:17:33.512822",
     "exception": false,
     "start_time": "2023-05-23T16:17:33.485783",
     "status": "completed"
    },
    "tags": []
   },
   "outputs": [],
   "source": [
    "y=df['rating']\n",
    "x=df.drop('rating',axis=1)"
   ]
  },
  {
   "cell_type": "code",
   "execution_count": 21,
   "id": "de5022a8",
   "metadata": {
    "execution": {
     "iopub.execute_input": "2023-05-23T16:17:33.550657Z",
     "iopub.status.busy": "2023-05-23T16:17:33.550023Z",
     "iopub.status.idle": "2023-05-23T16:17:33.561784Z",
     "shell.execute_reply": "2023-05-23T16:17:33.560924Z"
    },
    "papermill": {
     "duration": 0.033297,
     "end_time": "2023-05-23T16:17:33.564064",
     "exception": false,
     "start_time": "2023-05-23T16:17:33.530767",
     "status": "completed"
    },
    "tags": []
   },
   "outputs": [],
   "source": [
    "x_train,x_test,y_train,y_test=train_test_split(x,y,test_size=0.30,random_state=1)"
   ]
  },
  {
   "cell_type": "code",
   "execution_count": 22,
   "id": "a751e00f",
   "metadata": {
    "execution": {
     "iopub.execute_input": "2023-05-23T16:17:33.601487Z",
     "iopub.status.busy": "2023-05-23T16:17:33.600830Z",
     "iopub.status.idle": "2023-05-23T16:17:33.660616Z",
     "shell.execute_reply": "2023-05-23T16:17:33.659498Z"
    },
    "papermill": {
     "duration": 0.081659,
     "end_time": "2023-05-23T16:17:33.663454",
     "exception": false,
     "start_time": "2023-05-23T16:17:33.581795",
     "status": "completed"
    },
    "tags": []
   },
   "outputs": [
    {
     "data": {
      "text/html": [
       "<style>#sk-container-id-1 {color: black;background-color: white;}#sk-container-id-1 pre{padding: 0;}#sk-container-id-1 div.sk-toggleable {background-color: white;}#sk-container-id-1 label.sk-toggleable__label {cursor: pointer;display: block;width: 100%;margin-bottom: 0;padding: 0.3em;box-sizing: border-box;text-align: center;}#sk-container-id-1 label.sk-toggleable__label-arrow:before {content: \"▸\";float: left;margin-right: 0.25em;color: #696969;}#sk-container-id-1 label.sk-toggleable__label-arrow:hover:before {color: black;}#sk-container-id-1 div.sk-estimator:hover label.sk-toggleable__label-arrow:before {color: black;}#sk-container-id-1 div.sk-toggleable__content {max-height: 0;max-width: 0;overflow: hidden;text-align: left;background-color: #f0f8ff;}#sk-container-id-1 div.sk-toggleable__content pre {margin: 0.2em;color: black;border-radius: 0.25em;background-color: #f0f8ff;}#sk-container-id-1 input.sk-toggleable__control:checked~div.sk-toggleable__content {max-height: 200px;max-width: 100%;overflow: auto;}#sk-container-id-1 input.sk-toggleable__control:checked~label.sk-toggleable__label-arrow:before {content: \"▾\";}#sk-container-id-1 div.sk-estimator input.sk-toggleable__control:checked~label.sk-toggleable__label {background-color: #d4ebff;}#sk-container-id-1 div.sk-label input.sk-toggleable__control:checked~label.sk-toggleable__label {background-color: #d4ebff;}#sk-container-id-1 input.sk-hidden--visually {border: 0;clip: rect(1px 1px 1px 1px);clip: rect(1px, 1px, 1px, 1px);height: 1px;margin: -1px;overflow: hidden;padding: 0;position: absolute;width: 1px;}#sk-container-id-1 div.sk-estimator {font-family: monospace;background-color: #f0f8ff;border: 1px dotted black;border-radius: 0.25em;box-sizing: border-box;margin-bottom: 0.5em;}#sk-container-id-1 div.sk-estimator:hover {background-color: #d4ebff;}#sk-container-id-1 div.sk-parallel-item::after {content: \"\";width: 100%;border-bottom: 1px solid gray;flex-grow: 1;}#sk-container-id-1 div.sk-label:hover label.sk-toggleable__label {background-color: #d4ebff;}#sk-container-id-1 div.sk-serial::before {content: \"\";position: absolute;border-left: 1px solid gray;box-sizing: border-box;top: 0;bottom: 0;left: 50%;z-index: 0;}#sk-container-id-1 div.sk-serial {display: flex;flex-direction: column;align-items: center;background-color: white;padding-right: 0.2em;padding-left: 0.2em;position: relative;}#sk-container-id-1 div.sk-item {position: relative;z-index: 1;}#sk-container-id-1 div.sk-parallel {display: flex;align-items: stretch;justify-content: center;background-color: white;position: relative;}#sk-container-id-1 div.sk-item::before, #sk-container-id-1 div.sk-parallel-item::before {content: \"\";position: absolute;border-left: 1px solid gray;box-sizing: border-box;top: 0;bottom: 0;left: 50%;z-index: -1;}#sk-container-id-1 div.sk-parallel-item {display: flex;flex-direction: column;z-index: 1;position: relative;background-color: white;}#sk-container-id-1 div.sk-parallel-item:first-child::after {align-self: flex-end;width: 50%;}#sk-container-id-1 div.sk-parallel-item:last-child::after {align-self: flex-start;width: 50%;}#sk-container-id-1 div.sk-parallel-item:only-child::after {width: 0;}#sk-container-id-1 div.sk-dashed-wrapped {border: 1px dashed gray;margin: 0 0.4em 0.5em 0.4em;box-sizing: border-box;padding-bottom: 0.4em;background-color: white;}#sk-container-id-1 div.sk-label label {font-family: monospace;font-weight: bold;display: inline-block;line-height: 1.2em;}#sk-container-id-1 div.sk-label-container {text-align: center;}#sk-container-id-1 div.sk-container {/* jupyter's `normalize.less` sets `[hidden] { display: none; }` but bootstrap.min.css set `[hidden] { display: none !important; }` so we also need the `!important` here to be able to override the default hidden behavior on the sphinx rendered scikit-learn.org. See: https://github.com/scikit-learn/scikit-learn/issues/21755 */display: inline-block !important;position: relative;}#sk-container-id-1 div.sk-text-repr-fallback {display: none;}</style><div id=\"sk-container-id-1\" class=\"sk-top-container\"><div class=\"sk-text-repr-fallback\"><pre>LinearRegression()</pre><b>In a Jupyter environment, please rerun this cell to show the HTML representation or trust the notebook. <br />On GitHub, the HTML representation is unable to render, please try loading this page with nbviewer.org.</b></div><div class=\"sk-container\" hidden><div class=\"sk-item\"><div class=\"sk-estimator sk-toggleable\"><input class=\"sk-toggleable__control sk-hidden--visually\" id=\"sk-estimator-id-1\" type=\"checkbox\" checked><label for=\"sk-estimator-id-1\" class=\"sk-toggleable__label sk-toggleable__label-arrow\">LinearRegression</label><div class=\"sk-toggleable__content\"><pre>LinearRegression()</pre></div></div></div></div></div>"
      ],
      "text/plain": [
       "LinearRegression()"
      ]
     },
     "execution_count": 22,
     "metadata": {},
     "output_type": "execute_result"
    }
   ],
   "source": [
    "model_1=LinearRegression()\n",
    "model_1.fit(x_train,y_train)"
   ]
  },
  {
   "cell_type": "code",
   "execution_count": 23,
   "id": "f1b1af4e",
   "metadata": {
    "execution": {
     "iopub.execute_input": "2023-05-23T16:17:33.728537Z",
     "iopub.status.busy": "2023-05-23T16:17:33.727994Z",
     "iopub.status.idle": "2023-05-23T16:17:33.746694Z",
     "shell.execute_reply": "2023-05-23T16:17:33.745535Z"
    },
    "papermill": {
     "duration": 0.0556,
     "end_time": "2023-05-23T16:17:33.749652",
     "exception": false,
     "start_time": "2023-05-23T16:17:33.694052",
     "status": "completed"
    },
    "tags": []
   },
   "outputs": [
    {
     "data": {
      "text/plain": [
       "0.21348110288967925"
      ]
     },
     "execution_count": 23,
     "metadata": {},
     "output_type": "execute_result"
    }
   ],
   "source": [
    "model_1.score(x_train,y_train)"
   ]
  },
  {
   "cell_type": "markdown",
   "id": "0576fadb",
   "metadata": {
    "papermill": {
     "duration": 0.031083,
     "end_time": "2023-05-23T16:17:33.808842",
     "exception": false,
     "start_time": "2023-05-23T16:17:33.777759",
     "status": "completed"
    },
    "tags": []
   },
   "source": [
    "### model after removing outliers"
   ]
  },
  {
   "cell_type": "code",
   "execution_count": 24,
   "id": "533e6c7d",
   "metadata": {
    "execution": {
     "iopub.execute_input": "2023-05-23T16:17:33.868985Z",
     "iopub.status.busy": "2023-05-23T16:17:33.868580Z",
     "iopub.status.idle": "2023-05-23T16:17:33.874422Z",
     "shell.execute_reply": "2023-05-23T16:17:33.873119Z"
    },
    "papermill": {
     "duration": 0.035926,
     "end_time": "2023-05-23T16:17:33.876456",
     "exception": false,
     "start_time": "2023-05-23T16:17:33.840530",
     "status": "completed"
    },
    "tags": []
   },
   "outputs": [],
   "source": [
    "def remove_outlier(col):\n",
    "    sorted(col)\n",
    "    Q1,Q3=col.quantile([0.25,0.75])\n",
    "    IQR=Q3-Q1\n",
    "    lower_range=Q1-1.5*IQR\n",
    "    upper_range=Q3+1.5*IQR\n",
    "    return lower_range,upper_range"
   ]
  },
  {
   "cell_type": "code",
   "execution_count": 25,
   "id": "d0ec02bd",
   "metadata": {
    "execution": {
     "iopub.execute_input": "2023-05-23T16:17:33.915822Z",
     "iopub.status.busy": "2023-05-23T16:17:33.915376Z",
     "iopub.status.idle": "2023-05-23T16:17:33.928598Z",
     "shell.execute_reply": "2023-05-23T16:17:33.927477Z"
    },
    "papermill": {
     "duration": 0.035598,
     "end_time": "2023-05-23T16:17:33.930921",
     "exception": false,
     "start_time": "2023-05-23T16:17:33.895323",
     "status": "completed"
    },
    "tags": []
   },
   "outputs": [],
   "source": [
    "low_playtime,high_playtime=remove_outlier(df[\"playtime\"])\n",
    "df[\"playtime\"]=np.where(df[\"playtime\"]>high_playtime,high_playtime,df[\"playtime\"])\n",
    "df[\"playtime\"]=np.where(df['playtime']<low_playtime,low_playtime,df[\"playtime\"])"
   ]
  },
  {
   "cell_type": "code",
   "execution_count": 26,
   "id": "d6598648",
   "metadata": {
    "execution": {
     "iopub.execute_input": "2023-05-23T16:17:33.970589Z",
     "iopub.status.busy": "2023-05-23T16:17:33.970195Z",
     "iopub.status.idle": "2023-05-23T16:17:33.983407Z",
     "shell.execute_reply": "2023-05-23T16:17:33.982347Z"
    },
    "papermill": {
     "duration": 0.035544,
     "end_time": "2023-05-23T16:17:33.985549",
     "exception": false,
     "start_time": "2023-05-23T16:17:33.950005",
     "status": "completed"
    },
    "tags": []
   },
   "outputs": [],
   "source": [
    "low_reviews_count,high_reviews_count=remove_outlier(df[\"reviews_count\"])\n",
    "df[\"reviews_count\"]=np.where(df[\"reviews_count\"]>high_reviews_count,high_reviews_count,df[\"reviews_count\"])\n",
    "df[\"reviews_count\"]=np.where(df['reviews_count']<low_reviews_count,low_reviews_count,df[\"reviews_count\"])"
   ]
  },
  {
   "cell_type": "code",
   "execution_count": 27,
   "id": "ac8bb52d",
   "metadata": {
    "execution": {
     "iopub.execute_input": "2023-05-23T16:17:34.025385Z",
     "iopub.status.busy": "2023-05-23T16:17:34.024954Z",
     "iopub.status.idle": "2023-05-23T16:17:34.037432Z",
     "shell.execute_reply": "2023-05-23T16:17:34.036261Z"
    },
    "papermill": {
     "duration": 0.035407,
     "end_time": "2023-05-23T16:17:34.039978",
     "exception": false,
     "start_time": "2023-05-23T16:17:34.004571",
     "status": "completed"
    },
    "tags": []
   },
   "outputs": [],
   "source": [
    "low_added,high_added=remove_outlier(df[\"added\"])\n",
    "df[\"added\"]=np.where(df[\"added\"]>high_added,high_added,df[\"added\"])\n",
    "df[\"added\"]=np.where(df['added']<low_added,low_added,df[\"added\"])"
   ]
  },
  {
   "cell_type": "code",
   "execution_count": 28,
   "id": "b0ec9f2e",
   "metadata": {
    "execution": {
     "iopub.execute_input": "2023-05-23T16:17:34.079622Z",
     "iopub.status.busy": "2023-05-23T16:17:34.079234Z",
     "iopub.status.idle": "2023-05-23T16:17:34.092864Z",
     "shell.execute_reply": "2023-05-23T16:17:34.091842Z"
    },
    "papermill": {
     "duration": 0.036244,
     "end_time": "2023-05-23T16:17:34.095210",
     "exception": false,
     "start_time": "2023-05-23T16:17:34.058966",
     "status": "completed"
    },
    "tags": []
   },
   "outputs": [],
   "source": [
    "low_ratings_count,high_ratings_count=remove_outlier(df[\"ratings_count\"])\n",
    "df[\"ratings_count\"]=np.where(df[\"added\"]>high_ratings_count,high_ratings_count,df[\"ratings_count\"])\n",
    "df[\"ratings_count\"]=np.where(df['added']<low_ratings_count,low_ratings_count,df[\"ratings_count\"])"
   ]
  },
  {
   "cell_type": "code",
   "execution_count": 29,
   "id": "466df794",
   "metadata": {
    "execution": {
     "iopub.execute_input": "2023-05-23T16:17:34.134523Z",
     "iopub.status.busy": "2023-05-23T16:17:34.133741Z",
     "iopub.status.idle": "2023-05-23T16:17:34.222760Z",
     "shell.execute_reply": "2023-05-23T16:17:34.221443Z"
    },
    "papermill": {
     "duration": 0.111356,
     "end_time": "2023-05-23T16:17:34.225237",
     "exception": false,
     "start_time": "2023-05-23T16:17:34.113881",
     "status": "completed"
    },
    "tags": []
   },
   "outputs": [
    {
     "data": {
      "text/html": [
       "<div>\n",
       "<style scoped>\n",
       "    .dataframe tbody tr th:only-of-type {\n",
       "        vertical-align: middle;\n",
       "    }\n",
       "\n",
       "    .dataframe tbody tr th {\n",
       "        vertical-align: top;\n",
       "    }\n",
       "\n",
       "    .dataframe thead th {\n",
       "        text-align: right;\n",
       "    }\n",
       "</style>\n",
       "<table border=\"1\" class=\"dataframe\">\n",
       "  <thead>\n",
       "    <tr style=\"text-align: right;\">\n",
       "      <th></th>\n",
       "      <th>added</th>\n",
       "      <th>playtime</th>\n",
       "      <th>reviews_count</th>\n",
       "      <th>ratings_count</th>\n",
       "      <th>rating</th>\n",
       "      <th>release_year</th>\n",
       "      <th>release_day_of_week_Friday</th>\n",
       "      <th>release_day_of_week_Monday</th>\n",
       "      <th>release_day_of_week_Saturday</th>\n",
       "      <th>release_day_of_week_Sunday</th>\n",
       "      <th>...</th>\n",
       "      <th>release_month_December</th>\n",
       "      <th>release_month_February</th>\n",
       "      <th>release_month_January</th>\n",
       "      <th>release_month_July</th>\n",
       "      <th>release_month_June</th>\n",
       "      <th>release_month_March</th>\n",
       "      <th>release_month_May</th>\n",
       "      <th>release_month_November</th>\n",
       "      <th>release_month_October</th>\n",
       "      <th>release_month_September</th>\n",
       "    </tr>\n",
       "  </thead>\n",
       "  <tbody>\n",
       "    <tr>\n",
       "      <th>count</th>\n",
       "      <td>19894.000000</td>\n",
       "      <td>19894.000000</td>\n",
       "      <td>19894.000000</td>\n",
       "      <td>19894.000000</td>\n",
       "      <td>19894.000000</td>\n",
       "      <td>19894.000000</td>\n",
       "      <td>19894.000000</td>\n",
       "      <td>19894.000000</td>\n",
       "      <td>19894.000000</td>\n",
       "      <td>19894.000000</td>\n",
       "      <td>...</td>\n",
       "      <td>19894.000000</td>\n",
       "      <td>19894.000000</td>\n",
       "      <td>19894.000000</td>\n",
       "      <td>19894.000000</td>\n",
       "      <td>19894.000000</td>\n",
       "      <td>19894.000000</td>\n",
       "      <td>19894.000000</td>\n",
       "      <td>19894.000000</td>\n",
       "      <td>19894.000000</td>\n",
       "      <td>19894.000000</td>\n",
       "    </tr>\n",
       "    <tr>\n",
       "      <th>mean</th>\n",
       "      <td>365.574972</td>\n",
       "      <td>2.556701</td>\n",
       "      <td>35.289610</td>\n",
       "      <td>76.074646</td>\n",
       "      <td>2.254199</td>\n",
       "      <td>2013.702222</td>\n",
       "      <td>0.186539</td>\n",
       "      <td>0.140997</td>\n",
       "      <td>0.025586</td>\n",
       "      <td>0.031215</td>\n",
       "      <td>...</td>\n",
       "      <td>0.074445</td>\n",
       "      <td>0.074495</td>\n",
       "      <td>0.073691</td>\n",
       "      <td>0.075148</td>\n",
       "      <td>0.075199</td>\n",
       "      <td>0.087011</td>\n",
       "      <td>0.080275</td>\n",
       "      <td>0.093797</td>\n",
       "      <td>0.105107</td>\n",
       "      <td>0.095355</td>\n",
       "    </tr>\n",
       "    <tr>\n",
       "      <th>std</th>\n",
       "      <td>390.140576</td>\n",
       "      <td>2.220604</td>\n",
       "      <td>42.863788</td>\n",
       "      <td>56.131967</td>\n",
       "      <td>1.660833</td>\n",
       "      <td>6.617764</td>\n",
       "      <td>0.389551</td>\n",
       "      <td>0.348027</td>\n",
       "      <td>0.157899</td>\n",
       "      <td>0.173904</td>\n",
       "      <td>...</td>\n",
       "      <td>0.262500</td>\n",
       "      <td>0.262581</td>\n",
       "      <td>0.261273</td>\n",
       "      <td>0.263637</td>\n",
       "      <td>0.263718</td>\n",
       "      <td>0.281858</td>\n",
       "      <td>0.271726</td>\n",
       "      <td>0.291554</td>\n",
       "      <td>0.306699</td>\n",
       "      <td>0.293713</td>\n",
       "    </tr>\n",
       "    <tr>\n",
       "      <th>min</th>\n",
       "      <td>45.000000</td>\n",
       "      <td>0.000000</td>\n",
       "      <td>0.000000</td>\n",
       "      <td>0.000000</td>\n",
       "      <td>0.000000</td>\n",
       "      <td>1971.000000</td>\n",
       "      <td>0.000000</td>\n",
       "      <td>0.000000</td>\n",
       "      <td>0.000000</td>\n",
       "      <td>0.000000</td>\n",
       "      <td>...</td>\n",
       "      <td>0.000000</td>\n",
       "      <td>0.000000</td>\n",
       "      <td>0.000000</td>\n",
       "      <td>0.000000</td>\n",
       "      <td>0.000000</td>\n",
       "      <td>0.000000</td>\n",
       "      <td>0.000000</td>\n",
       "      <td>0.000000</td>\n",
       "      <td>0.000000</td>\n",
       "      <td>0.000000</td>\n",
       "    </tr>\n",
       "    <tr>\n",
       "      <th>25%</th>\n",
       "      <td>85.000000</td>\n",
       "      <td>1.000000</td>\n",
       "      <td>4.000000</td>\n",
       "      <td>5.000000</td>\n",
       "      <td>0.000000</td>\n",
       "      <td>2012.000000</td>\n",
       "      <td>0.000000</td>\n",
       "      <td>0.000000</td>\n",
       "      <td>0.000000</td>\n",
       "      <td>0.000000</td>\n",
       "      <td>...</td>\n",
       "      <td>0.000000</td>\n",
       "      <td>0.000000</td>\n",
       "      <td>0.000000</td>\n",
       "      <td>0.000000</td>\n",
       "      <td>0.000000</td>\n",
       "      <td>0.000000</td>\n",
       "      <td>0.000000</td>\n",
       "      <td>0.000000</td>\n",
       "      <td>0.000000</td>\n",
       "      <td>0.000000</td>\n",
       "    </tr>\n",
       "    <tr>\n",
       "      <th>50%</th>\n",
       "      <td>166.000000</td>\n",
       "      <td>2.000000</td>\n",
       "      <td>14.000000</td>\n",
       "      <td>121.500000</td>\n",
       "      <td>2.860000</td>\n",
       "      <td>2016.000000</td>\n",
       "      <td>0.000000</td>\n",
       "      <td>0.000000</td>\n",
       "      <td>0.000000</td>\n",
       "      <td>0.000000</td>\n",
       "      <td>...</td>\n",
       "      <td>0.000000</td>\n",
       "      <td>0.000000</td>\n",
       "      <td>0.000000</td>\n",
       "      <td>0.000000</td>\n",
       "      <td>0.000000</td>\n",
       "      <td>0.000000</td>\n",
       "      <td>0.000000</td>\n",
       "      <td>0.000000</td>\n",
       "      <td>0.000000</td>\n",
       "      <td>0.000000</td>\n",
       "    </tr>\n",
       "    <tr>\n",
       "      <th>75%</th>\n",
       "      <td>520.000000</td>\n",
       "      <td>4.000000</td>\n",
       "      <td>51.000000</td>\n",
       "      <td>121.500000</td>\n",
       "      <td>3.690000</td>\n",
       "      <td>2017.000000</td>\n",
       "      <td>0.000000</td>\n",
       "      <td>0.000000</td>\n",
       "      <td>0.000000</td>\n",
       "      <td>0.000000</td>\n",
       "      <td>...</td>\n",
       "      <td>0.000000</td>\n",
       "      <td>0.000000</td>\n",
       "      <td>0.000000</td>\n",
       "      <td>0.000000</td>\n",
       "      <td>0.000000</td>\n",
       "      <td>0.000000</td>\n",
       "      <td>0.000000</td>\n",
       "      <td>0.000000</td>\n",
       "      <td>0.000000</td>\n",
       "      <td>0.000000</td>\n",
       "    </tr>\n",
       "    <tr>\n",
       "      <th>max</th>\n",
       "      <td>1172.500000</td>\n",
       "      <td>8.500000</td>\n",
       "      <td>121.500000</td>\n",
       "      <td>121.500000</td>\n",
       "      <td>4.800000</td>\n",
       "      <td>2025.000000</td>\n",
       "      <td>1.000000</td>\n",
       "      <td>1.000000</td>\n",
       "      <td>1.000000</td>\n",
       "      <td>1.000000</td>\n",
       "      <td>...</td>\n",
       "      <td>1.000000</td>\n",
       "      <td>1.000000</td>\n",
       "      <td>1.000000</td>\n",
       "      <td>1.000000</td>\n",
       "      <td>1.000000</td>\n",
       "      <td>1.000000</td>\n",
       "      <td>1.000000</td>\n",
       "      <td>1.000000</td>\n",
       "      <td>1.000000</td>\n",
       "      <td>1.000000</td>\n",
       "    </tr>\n",
       "  </tbody>\n",
       "</table>\n",
       "<p>8 rows × 25 columns</p>\n",
       "</div>"
      ],
      "text/plain": [
       "              added      playtime  reviews_count  ratings_count        rating  \\\n",
       "count  19894.000000  19894.000000   19894.000000   19894.000000  19894.000000   \n",
       "mean     365.574972      2.556701      35.289610      76.074646      2.254199   \n",
       "std      390.140576      2.220604      42.863788      56.131967      1.660833   \n",
       "min       45.000000      0.000000       0.000000       0.000000      0.000000   \n",
       "25%       85.000000      1.000000       4.000000       5.000000      0.000000   \n",
       "50%      166.000000      2.000000      14.000000     121.500000      2.860000   \n",
       "75%      520.000000      4.000000      51.000000     121.500000      3.690000   \n",
       "max     1172.500000      8.500000     121.500000     121.500000      4.800000   \n",
       "\n",
       "       release_year  release_day_of_week_Friday  release_day_of_week_Monday  \\\n",
       "count  19894.000000                19894.000000                19894.000000   \n",
       "mean    2013.702222                    0.186539                    0.140997   \n",
       "std        6.617764                    0.389551                    0.348027   \n",
       "min     1971.000000                    0.000000                    0.000000   \n",
       "25%     2012.000000                    0.000000                    0.000000   \n",
       "50%     2016.000000                    0.000000                    0.000000   \n",
       "75%     2017.000000                    0.000000                    0.000000   \n",
       "max     2025.000000                    1.000000                    1.000000   \n",
       "\n",
       "       release_day_of_week_Saturday  release_day_of_week_Sunday  ...  \\\n",
       "count                  19894.000000                19894.000000  ...   \n",
       "mean                       0.025586                    0.031215  ...   \n",
       "std                        0.157899                    0.173904  ...   \n",
       "min                        0.000000                    0.000000  ...   \n",
       "25%                        0.000000                    0.000000  ...   \n",
       "50%                        0.000000                    0.000000  ...   \n",
       "75%                        0.000000                    0.000000  ...   \n",
       "max                        1.000000                    1.000000  ...   \n",
       "\n",
       "       release_month_December  release_month_February  release_month_January  \\\n",
       "count            19894.000000            19894.000000           19894.000000   \n",
       "mean                 0.074445                0.074495               0.073691   \n",
       "std                  0.262500                0.262581               0.261273   \n",
       "min                  0.000000                0.000000               0.000000   \n",
       "25%                  0.000000                0.000000               0.000000   \n",
       "50%                  0.000000                0.000000               0.000000   \n",
       "75%                  0.000000                0.000000               0.000000   \n",
       "max                  1.000000                1.000000               1.000000   \n",
       "\n",
       "       release_month_July  release_month_June  release_month_March  \\\n",
       "count        19894.000000        19894.000000         19894.000000   \n",
       "mean             0.075148            0.075199             0.087011   \n",
       "std              0.263637            0.263718             0.281858   \n",
       "min              0.000000            0.000000             0.000000   \n",
       "25%              0.000000            0.000000             0.000000   \n",
       "50%              0.000000            0.000000             0.000000   \n",
       "75%              0.000000            0.000000             0.000000   \n",
       "max              1.000000            1.000000             1.000000   \n",
       "\n",
       "       release_month_May  release_month_November  release_month_October  \\\n",
       "count       19894.000000            19894.000000           19894.000000   \n",
       "mean            0.080275                0.093797               0.105107   \n",
       "std             0.271726                0.291554               0.306699   \n",
       "min             0.000000                0.000000               0.000000   \n",
       "25%             0.000000                0.000000               0.000000   \n",
       "50%             0.000000                0.000000               0.000000   \n",
       "75%             0.000000                0.000000               0.000000   \n",
       "max             1.000000                1.000000               1.000000   \n",
       "\n",
       "       release_month_September  \n",
       "count             19894.000000  \n",
       "mean                  0.095355  \n",
       "std                   0.293713  \n",
       "min                   0.000000  \n",
       "25%                   0.000000  \n",
       "50%                   0.000000  \n",
       "75%                   0.000000  \n",
       "max                   1.000000  \n",
       "\n",
       "[8 rows x 25 columns]"
      ]
     },
     "execution_count": 29,
     "metadata": {},
     "output_type": "execute_result"
    }
   ],
   "source": [
    "df.describe()"
   ]
  },
  {
   "cell_type": "code",
   "execution_count": 30,
   "id": "2f83e534",
   "metadata": {
    "execution": {
     "iopub.execute_input": "2023-05-23T16:17:34.266016Z",
     "iopub.status.busy": "2023-05-23T16:17:34.265564Z",
     "iopub.status.idle": "2023-05-23T16:17:34.275345Z",
     "shell.execute_reply": "2023-05-23T16:17:34.274413Z"
    },
    "papermill": {
     "duration": 0.032759,
     "end_time": "2023-05-23T16:17:34.277284",
     "exception": false,
     "start_time": "2023-05-23T16:17:34.244525",
     "status": "completed"
    },
    "tags": []
   },
   "outputs": [
    {
     "data": {
      "text/plain": [
       "added                            0\n",
       "playtime                         0\n",
       "reviews_count                    0\n",
       "ratings_count                    0\n",
       "rating                           0\n",
       "release_year                     0\n",
       "release_day_of_week_Friday       0\n",
       "release_day_of_week_Monday       0\n",
       "release_day_of_week_Saturday     0\n",
       "release_day_of_week_Sunday       0\n",
       "release_day_of_week_Thursday     0\n",
       "release_day_of_week_Tuesday      0\n",
       "release_day_of_week_Wednesday    0\n",
       "release_month_April              0\n",
       "release_month_August             0\n",
       "release_month_December           0\n",
       "release_month_February           0\n",
       "release_month_January            0\n",
       "release_month_July               0\n",
       "release_month_June               0\n",
       "release_month_March              0\n",
       "release_month_May                0\n",
       "release_month_November           0\n",
       "release_month_October            0\n",
       "release_month_September          0\n",
       "dtype: int64"
      ]
     },
     "execution_count": 30,
     "metadata": {},
     "output_type": "execute_result"
    }
   ],
   "source": [
    "df.isnull().sum()"
   ]
  },
  {
   "cell_type": "code",
   "execution_count": 31,
   "id": "a2957606",
   "metadata": {
    "execution": {
     "iopub.execute_input": "2023-05-23T16:17:34.317710Z",
     "iopub.status.busy": "2023-05-23T16:17:34.317366Z",
     "iopub.status.idle": "2023-05-23T16:17:34.342071Z",
     "shell.execute_reply": "2023-05-23T16:17:34.340833Z"
    },
    "papermill": {
     "duration": 0.048524,
     "end_time": "2023-05-23T16:17:34.345151",
     "exception": false,
     "start_time": "2023-05-23T16:17:34.296627",
     "status": "completed"
    },
    "tags": []
   },
   "outputs": [
    {
     "data": {
      "text/html": [
       "<style>#sk-container-id-2 {color: black;background-color: white;}#sk-container-id-2 pre{padding: 0;}#sk-container-id-2 div.sk-toggleable {background-color: white;}#sk-container-id-2 label.sk-toggleable__label {cursor: pointer;display: block;width: 100%;margin-bottom: 0;padding: 0.3em;box-sizing: border-box;text-align: center;}#sk-container-id-2 label.sk-toggleable__label-arrow:before {content: \"▸\";float: left;margin-right: 0.25em;color: #696969;}#sk-container-id-2 label.sk-toggleable__label-arrow:hover:before {color: black;}#sk-container-id-2 div.sk-estimator:hover label.sk-toggleable__label-arrow:before {color: black;}#sk-container-id-2 div.sk-toggleable__content {max-height: 0;max-width: 0;overflow: hidden;text-align: left;background-color: #f0f8ff;}#sk-container-id-2 div.sk-toggleable__content pre {margin: 0.2em;color: black;border-radius: 0.25em;background-color: #f0f8ff;}#sk-container-id-2 input.sk-toggleable__control:checked~div.sk-toggleable__content {max-height: 200px;max-width: 100%;overflow: auto;}#sk-container-id-2 input.sk-toggleable__control:checked~label.sk-toggleable__label-arrow:before {content: \"▾\";}#sk-container-id-2 div.sk-estimator input.sk-toggleable__control:checked~label.sk-toggleable__label {background-color: #d4ebff;}#sk-container-id-2 div.sk-label input.sk-toggleable__control:checked~label.sk-toggleable__label {background-color: #d4ebff;}#sk-container-id-2 input.sk-hidden--visually {border: 0;clip: rect(1px 1px 1px 1px);clip: rect(1px, 1px, 1px, 1px);height: 1px;margin: -1px;overflow: hidden;padding: 0;position: absolute;width: 1px;}#sk-container-id-2 div.sk-estimator {font-family: monospace;background-color: #f0f8ff;border: 1px dotted black;border-radius: 0.25em;box-sizing: border-box;margin-bottom: 0.5em;}#sk-container-id-2 div.sk-estimator:hover {background-color: #d4ebff;}#sk-container-id-2 div.sk-parallel-item::after {content: \"\";width: 100%;border-bottom: 1px solid gray;flex-grow: 1;}#sk-container-id-2 div.sk-label:hover label.sk-toggleable__label {background-color: #d4ebff;}#sk-container-id-2 div.sk-serial::before {content: \"\";position: absolute;border-left: 1px solid gray;box-sizing: border-box;top: 0;bottom: 0;left: 50%;z-index: 0;}#sk-container-id-2 div.sk-serial {display: flex;flex-direction: column;align-items: center;background-color: white;padding-right: 0.2em;padding-left: 0.2em;position: relative;}#sk-container-id-2 div.sk-item {position: relative;z-index: 1;}#sk-container-id-2 div.sk-parallel {display: flex;align-items: stretch;justify-content: center;background-color: white;position: relative;}#sk-container-id-2 div.sk-item::before, #sk-container-id-2 div.sk-parallel-item::before {content: \"\";position: absolute;border-left: 1px solid gray;box-sizing: border-box;top: 0;bottom: 0;left: 50%;z-index: -1;}#sk-container-id-2 div.sk-parallel-item {display: flex;flex-direction: column;z-index: 1;position: relative;background-color: white;}#sk-container-id-2 div.sk-parallel-item:first-child::after {align-self: flex-end;width: 50%;}#sk-container-id-2 div.sk-parallel-item:last-child::after {align-self: flex-start;width: 50%;}#sk-container-id-2 div.sk-parallel-item:only-child::after {width: 0;}#sk-container-id-2 div.sk-dashed-wrapped {border: 1px dashed gray;margin: 0 0.4em 0.5em 0.4em;box-sizing: border-box;padding-bottom: 0.4em;background-color: white;}#sk-container-id-2 div.sk-label label {font-family: monospace;font-weight: bold;display: inline-block;line-height: 1.2em;}#sk-container-id-2 div.sk-label-container {text-align: center;}#sk-container-id-2 div.sk-container {/* jupyter's `normalize.less` sets `[hidden] { display: none; }` but bootstrap.min.css set `[hidden] { display: none !important; }` so we also need the `!important` here to be able to override the default hidden behavior on the sphinx rendered scikit-learn.org. See: https://github.com/scikit-learn/scikit-learn/issues/21755 */display: inline-block !important;position: relative;}#sk-container-id-2 div.sk-text-repr-fallback {display: none;}</style><div id=\"sk-container-id-2\" class=\"sk-top-container\"><div class=\"sk-text-repr-fallback\"><pre>LinearRegression()</pre><b>In a Jupyter environment, please rerun this cell to show the HTML representation or trust the notebook. <br />On GitHub, the HTML representation is unable to render, please try loading this page with nbviewer.org.</b></div><div class=\"sk-container\" hidden><div class=\"sk-item\"><div class=\"sk-estimator sk-toggleable\"><input class=\"sk-toggleable__control sk-hidden--visually\" id=\"sk-estimator-id-2\" type=\"checkbox\" checked><label for=\"sk-estimator-id-2\" class=\"sk-toggleable__label sk-toggleable__label-arrow\">LinearRegression</label><div class=\"sk-toggleable__content\"><pre>LinearRegression()</pre></div></div></div></div></div>"
      ],
      "text/plain": [
       "LinearRegression()"
      ]
     },
     "execution_count": 31,
     "metadata": {},
     "output_type": "execute_result"
    }
   ],
   "source": [
    "model_2=LinearRegression()\n",
    "model_2.fit(x_train,y_train)"
   ]
  },
  {
   "cell_type": "code",
   "execution_count": 32,
   "id": "0c3c82cf",
   "metadata": {
    "execution": {
     "iopub.execute_input": "2023-05-23T16:17:34.413372Z",
     "iopub.status.busy": "2023-05-23T16:17:34.412821Z",
     "iopub.status.idle": "2023-05-23T16:17:34.433819Z",
     "shell.execute_reply": "2023-05-23T16:17:34.432626Z"
    },
    "papermill": {
     "duration": 0.058901,
     "end_time": "2023-05-23T16:17:34.437247",
     "exception": false,
     "start_time": "2023-05-23T16:17:34.378346",
     "status": "completed"
    },
    "tags": []
   },
   "outputs": [
    {
     "data": {
      "text/plain": [
       "0.21348110288967925"
      ]
     },
     "execution_count": 32,
     "metadata": {},
     "output_type": "execute_result"
    }
   ],
   "source": [
    "model_2.score(x_train,y_train)"
   ]
  },
  {
   "cell_type": "markdown",
   "id": "827ca0ad",
   "metadata": {
    "papermill": {
     "duration": 0.031951,
     "end_time": "2023-05-23T16:17:34.504239",
     "exception": false,
     "start_time": "2023-05-23T16:17:34.472288",
     "status": "completed"
    },
    "tags": []
   },
   "source": [
    "### decision tree regression"
   ]
  },
  {
   "cell_type": "code",
   "execution_count": 33,
   "id": "eed4e130",
   "metadata": {
    "execution": {
     "iopub.execute_input": "2023-05-23T16:17:34.561452Z",
     "iopub.status.busy": "2023-05-23T16:17:34.561068Z",
     "iopub.status.idle": "2023-05-23T16:17:34.736521Z",
     "shell.execute_reply": "2023-05-23T16:17:34.735641Z"
    },
    "papermill": {
     "duration": 0.202285,
     "end_time": "2023-05-23T16:17:34.739016",
     "exception": false,
     "start_time": "2023-05-23T16:17:34.536731",
     "status": "completed"
    },
    "tags": []
   },
   "outputs": [],
   "source": [
    "from sklearn.tree import DecisionTreeRegressor"
   ]
  },
  {
   "cell_type": "code",
   "execution_count": 34,
   "id": "e9dc8ee2",
   "metadata": {
    "execution": {
     "iopub.execute_input": "2023-05-23T16:17:34.781446Z",
     "iopub.status.busy": "2023-05-23T16:17:34.780186Z",
     "iopub.status.idle": "2023-05-23T16:17:34.785542Z",
     "shell.execute_reply": "2023-05-23T16:17:34.784780Z"
    },
    "papermill": {
     "duration": 0.028412,
     "end_time": "2023-05-23T16:17:34.787473",
     "exception": false,
     "start_time": "2023-05-23T16:17:34.759061",
     "status": "completed"
    },
    "tags": []
   },
   "outputs": [],
   "source": [
    "model_3=DecisionTreeRegressor(max_depth=8)"
   ]
  },
  {
   "cell_type": "code",
   "execution_count": 35,
   "id": "d41ae022",
   "metadata": {
    "execution": {
     "iopub.execute_input": "2023-05-23T16:17:34.830471Z",
     "iopub.status.busy": "2023-05-23T16:17:34.829560Z",
     "iopub.status.idle": "2023-05-23T16:17:34.873014Z",
     "shell.execute_reply": "2023-05-23T16:17:34.871819Z"
    },
    "papermill": {
     "duration": 0.067827,
     "end_time": "2023-05-23T16:17:34.875582",
     "exception": false,
     "start_time": "2023-05-23T16:17:34.807755",
     "status": "completed"
    },
    "tags": []
   },
   "outputs": [
    {
     "data": {
      "text/html": [
       "<style>#sk-container-id-3 {color: black;background-color: white;}#sk-container-id-3 pre{padding: 0;}#sk-container-id-3 div.sk-toggleable {background-color: white;}#sk-container-id-3 label.sk-toggleable__label {cursor: pointer;display: block;width: 100%;margin-bottom: 0;padding: 0.3em;box-sizing: border-box;text-align: center;}#sk-container-id-3 label.sk-toggleable__label-arrow:before {content: \"▸\";float: left;margin-right: 0.25em;color: #696969;}#sk-container-id-3 label.sk-toggleable__label-arrow:hover:before {color: black;}#sk-container-id-3 div.sk-estimator:hover label.sk-toggleable__label-arrow:before {color: black;}#sk-container-id-3 div.sk-toggleable__content {max-height: 0;max-width: 0;overflow: hidden;text-align: left;background-color: #f0f8ff;}#sk-container-id-3 div.sk-toggleable__content pre {margin: 0.2em;color: black;border-radius: 0.25em;background-color: #f0f8ff;}#sk-container-id-3 input.sk-toggleable__control:checked~div.sk-toggleable__content {max-height: 200px;max-width: 100%;overflow: auto;}#sk-container-id-3 input.sk-toggleable__control:checked~label.sk-toggleable__label-arrow:before {content: \"▾\";}#sk-container-id-3 div.sk-estimator input.sk-toggleable__control:checked~label.sk-toggleable__label {background-color: #d4ebff;}#sk-container-id-3 div.sk-label input.sk-toggleable__control:checked~label.sk-toggleable__label {background-color: #d4ebff;}#sk-container-id-3 input.sk-hidden--visually {border: 0;clip: rect(1px 1px 1px 1px);clip: rect(1px, 1px, 1px, 1px);height: 1px;margin: -1px;overflow: hidden;padding: 0;position: absolute;width: 1px;}#sk-container-id-3 div.sk-estimator {font-family: monospace;background-color: #f0f8ff;border: 1px dotted black;border-radius: 0.25em;box-sizing: border-box;margin-bottom: 0.5em;}#sk-container-id-3 div.sk-estimator:hover {background-color: #d4ebff;}#sk-container-id-3 div.sk-parallel-item::after {content: \"\";width: 100%;border-bottom: 1px solid gray;flex-grow: 1;}#sk-container-id-3 div.sk-label:hover label.sk-toggleable__label {background-color: #d4ebff;}#sk-container-id-3 div.sk-serial::before {content: \"\";position: absolute;border-left: 1px solid gray;box-sizing: border-box;top: 0;bottom: 0;left: 50%;z-index: 0;}#sk-container-id-3 div.sk-serial {display: flex;flex-direction: column;align-items: center;background-color: white;padding-right: 0.2em;padding-left: 0.2em;position: relative;}#sk-container-id-3 div.sk-item {position: relative;z-index: 1;}#sk-container-id-3 div.sk-parallel {display: flex;align-items: stretch;justify-content: center;background-color: white;position: relative;}#sk-container-id-3 div.sk-item::before, #sk-container-id-3 div.sk-parallel-item::before {content: \"\";position: absolute;border-left: 1px solid gray;box-sizing: border-box;top: 0;bottom: 0;left: 50%;z-index: -1;}#sk-container-id-3 div.sk-parallel-item {display: flex;flex-direction: column;z-index: 1;position: relative;background-color: white;}#sk-container-id-3 div.sk-parallel-item:first-child::after {align-self: flex-end;width: 50%;}#sk-container-id-3 div.sk-parallel-item:last-child::after {align-self: flex-start;width: 50%;}#sk-container-id-3 div.sk-parallel-item:only-child::after {width: 0;}#sk-container-id-3 div.sk-dashed-wrapped {border: 1px dashed gray;margin: 0 0.4em 0.5em 0.4em;box-sizing: border-box;padding-bottom: 0.4em;background-color: white;}#sk-container-id-3 div.sk-label label {font-family: monospace;font-weight: bold;display: inline-block;line-height: 1.2em;}#sk-container-id-3 div.sk-label-container {text-align: center;}#sk-container-id-3 div.sk-container {/* jupyter's `normalize.less` sets `[hidden] { display: none; }` but bootstrap.min.css set `[hidden] { display: none !important; }` so we also need the `!important` here to be able to override the default hidden behavior on the sphinx rendered scikit-learn.org. See: https://github.com/scikit-learn/scikit-learn/issues/21755 */display: inline-block !important;position: relative;}#sk-container-id-3 div.sk-text-repr-fallback {display: none;}</style><div id=\"sk-container-id-3\" class=\"sk-top-container\"><div class=\"sk-text-repr-fallback\"><pre>DecisionTreeRegressor(max_depth=8)</pre><b>In a Jupyter environment, please rerun this cell to show the HTML representation or trust the notebook. <br />On GitHub, the HTML representation is unable to render, please try loading this page with nbviewer.org.</b></div><div class=\"sk-container\" hidden><div class=\"sk-item\"><div class=\"sk-estimator sk-toggleable\"><input class=\"sk-toggleable__control sk-hidden--visually\" id=\"sk-estimator-id-3\" type=\"checkbox\" checked><label for=\"sk-estimator-id-3\" class=\"sk-toggleable__label sk-toggleable__label-arrow\">DecisionTreeRegressor</label><div class=\"sk-toggleable__content\"><pre>DecisionTreeRegressor(max_depth=8)</pre></div></div></div></div></div>"
      ],
      "text/plain": [
       "DecisionTreeRegressor(max_depth=8)"
      ]
     },
     "execution_count": 35,
     "metadata": {},
     "output_type": "execute_result"
    }
   ],
   "source": [
    "model_3.fit(x_train,y_train)"
   ]
  },
  {
   "cell_type": "code",
   "execution_count": 36,
   "id": "cdf86cd0",
   "metadata": {
    "execution": {
     "iopub.execute_input": "2023-05-23T16:17:34.918404Z",
     "iopub.status.busy": "2023-05-23T16:17:34.918021Z",
     "iopub.status.idle": "2023-05-23T16:17:34.930335Z",
     "shell.execute_reply": "2023-05-23T16:17:34.929099Z"
    },
    "papermill": {
     "duration": 0.036587,
     "end_time": "2023-05-23T16:17:34.932838",
     "exception": false,
     "start_time": "2023-05-23T16:17:34.896251",
     "status": "completed"
    },
    "tags": []
   },
   "outputs": [
    {
     "data": {
      "text/plain": [
       "0.9314611066593474"
      ]
     },
     "execution_count": 36,
     "metadata": {},
     "output_type": "execute_result"
    }
   ],
   "source": [
    "model_3.score(x_train,y_train)"
   ]
  },
  {
   "cell_type": "code",
   "execution_count": 37,
   "id": "e0ae38be",
   "metadata": {
    "execution": {
     "iopub.execute_input": "2023-05-23T16:17:34.976338Z",
     "iopub.status.busy": "2023-05-23T16:17:34.975954Z",
     "iopub.status.idle": "2023-05-23T16:17:34.985910Z",
     "shell.execute_reply": "2023-05-23T16:17:34.985018Z"
    },
    "papermill": {
     "duration": 0.033835,
     "end_time": "2023-05-23T16:17:34.987875",
     "exception": false,
     "start_time": "2023-05-23T16:17:34.954040",
     "status": "completed"
    },
    "tags": []
   },
   "outputs": [
    {
     "data": {
      "text/plain": [
       "0.9253392913943993"
      ]
     },
     "execution_count": 37,
     "metadata": {},
     "output_type": "execute_result"
    }
   ],
   "source": [
    "model_3.score(x_test,y_test)"
   ]
  },
  {
   "cell_type": "markdown",
   "id": "9386c16d",
   "metadata": {
    "papermill": {
     "duration": 0.01977,
     "end_time": "2023-05-23T16:17:35.027521",
     "exception": false,
     "start_time": "2023-05-23T16:17:35.007751",
     "status": "completed"
    },
    "tags": []
   },
   "source": [
    "### bagging regression"
   ]
  },
  {
   "cell_type": "code",
   "execution_count": 38,
   "id": "d34c51b7",
   "metadata": {
    "execution": {
     "iopub.execute_input": "2023-05-23T16:17:35.069528Z",
     "iopub.status.busy": "2023-05-23T16:17:35.069168Z",
     "iopub.status.idle": "2023-05-23T16:17:35.201576Z",
     "shell.execute_reply": "2023-05-23T16:17:35.200426Z"
    },
    "papermill": {
     "duration": 0.156572,
     "end_time": "2023-05-23T16:17:35.204220",
     "exception": false,
     "start_time": "2023-05-23T16:17:35.047648",
     "status": "completed"
    },
    "tags": []
   },
   "outputs": [],
   "source": [
    "from sklearn.ensemble import BaggingRegressor"
   ]
  },
  {
   "cell_type": "code",
   "execution_count": 39,
   "id": "4b87ea91",
   "metadata": {
    "execution": {
     "iopub.execute_input": "2023-05-23T16:17:35.246629Z",
     "iopub.status.busy": "2023-05-23T16:17:35.246237Z",
     "iopub.status.idle": "2023-05-23T16:17:35.251005Z",
     "shell.execute_reply": "2023-05-23T16:17:35.250024Z"
    },
    "papermill": {
     "duration": 0.028582,
     "end_time": "2023-05-23T16:17:35.252941",
     "exception": false,
     "start_time": "2023-05-23T16:17:35.224359",
     "status": "completed"
    },
    "tags": []
   },
   "outputs": [],
   "source": [
    "model_4=BaggingRegressor(n_estimators=8,base_estimator=model_3)"
   ]
  },
  {
   "cell_type": "code",
   "execution_count": 40,
   "id": "83b60b17",
   "metadata": {
    "execution": {
     "iopub.execute_input": "2023-05-23T16:17:35.295442Z",
     "iopub.status.busy": "2023-05-23T16:17:35.294759Z",
     "iopub.status.idle": "2023-05-23T16:17:35.486406Z",
     "shell.execute_reply": "2023-05-23T16:17:35.485083Z"
    },
    "papermill": {
     "duration": 0.215387,
     "end_time": "2023-05-23T16:17:35.488537",
     "exception": false,
     "start_time": "2023-05-23T16:17:35.273150",
     "status": "completed"
    },
    "tags": []
   },
   "outputs": [
    {
     "name": "stderr",
     "output_type": "stream",
     "text": [
      "/opt/conda/lib/python3.10/site-packages/sklearn/ensemble/_base.py:166: FutureWarning: `base_estimator` was renamed to `estimator` in version 1.2 and will be removed in 1.4.\n",
      "  warnings.warn(\n"
     ]
    },
    {
     "data": {
      "text/html": [
       "<style>#sk-container-id-4 {color: black;background-color: white;}#sk-container-id-4 pre{padding: 0;}#sk-container-id-4 div.sk-toggleable {background-color: white;}#sk-container-id-4 label.sk-toggleable__label {cursor: pointer;display: block;width: 100%;margin-bottom: 0;padding: 0.3em;box-sizing: border-box;text-align: center;}#sk-container-id-4 label.sk-toggleable__label-arrow:before {content: \"▸\";float: left;margin-right: 0.25em;color: #696969;}#sk-container-id-4 label.sk-toggleable__label-arrow:hover:before {color: black;}#sk-container-id-4 div.sk-estimator:hover label.sk-toggleable__label-arrow:before {color: black;}#sk-container-id-4 div.sk-toggleable__content {max-height: 0;max-width: 0;overflow: hidden;text-align: left;background-color: #f0f8ff;}#sk-container-id-4 div.sk-toggleable__content pre {margin: 0.2em;color: black;border-radius: 0.25em;background-color: #f0f8ff;}#sk-container-id-4 input.sk-toggleable__control:checked~div.sk-toggleable__content {max-height: 200px;max-width: 100%;overflow: auto;}#sk-container-id-4 input.sk-toggleable__control:checked~label.sk-toggleable__label-arrow:before {content: \"▾\";}#sk-container-id-4 div.sk-estimator input.sk-toggleable__control:checked~label.sk-toggleable__label {background-color: #d4ebff;}#sk-container-id-4 div.sk-label input.sk-toggleable__control:checked~label.sk-toggleable__label {background-color: #d4ebff;}#sk-container-id-4 input.sk-hidden--visually {border: 0;clip: rect(1px 1px 1px 1px);clip: rect(1px, 1px, 1px, 1px);height: 1px;margin: -1px;overflow: hidden;padding: 0;position: absolute;width: 1px;}#sk-container-id-4 div.sk-estimator {font-family: monospace;background-color: #f0f8ff;border: 1px dotted black;border-radius: 0.25em;box-sizing: border-box;margin-bottom: 0.5em;}#sk-container-id-4 div.sk-estimator:hover {background-color: #d4ebff;}#sk-container-id-4 div.sk-parallel-item::after {content: \"\";width: 100%;border-bottom: 1px solid gray;flex-grow: 1;}#sk-container-id-4 div.sk-label:hover label.sk-toggleable__label {background-color: #d4ebff;}#sk-container-id-4 div.sk-serial::before {content: \"\";position: absolute;border-left: 1px solid gray;box-sizing: border-box;top: 0;bottom: 0;left: 50%;z-index: 0;}#sk-container-id-4 div.sk-serial {display: flex;flex-direction: column;align-items: center;background-color: white;padding-right: 0.2em;padding-left: 0.2em;position: relative;}#sk-container-id-4 div.sk-item {position: relative;z-index: 1;}#sk-container-id-4 div.sk-parallel {display: flex;align-items: stretch;justify-content: center;background-color: white;position: relative;}#sk-container-id-4 div.sk-item::before, #sk-container-id-4 div.sk-parallel-item::before {content: \"\";position: absolute;border-left: 1px solid gray;box-sizing: border-box;top: 0;bottom: 0;left: 50%;z-index: -1;}#sk-container-id-4 div.sk-parallel-item {display: flex;flex-direction: column;z-index: 1;position: relative;background-color: white;}#sk-container-id-4 div.sk-parallel-item:first-child::after {align-self: flex-end;width: 50%;}#sk-container-id-4 div.sk-parallel-item:last-child::after {align-self: flex-start;width: 50%;}#sk-container-id-4 div.sk-parallel-item:only-child::after {width: 0;}#sk-container-id-4 div.sk-dashed-wrapped {border: 1px dashed gray;margin: 0 0.4em 0.5em 0.4em;box-sizing: border-box;padding-bottom: 0.4em;background-color: white;}#sk-container-id-4 div.sk-label label {font-family: monospace;font-weight: bold;display: inline-block;line-height: 1.2em;}#sk-container-id-4 div.sk-label-container {text-align: center;}#sk-container-id-4 div.sk-container {/* jupyter's `normalize.less` sets `[hidden] { display: none; }` but bootstrap.min.css set `[hidden] { display: none !important; }` so we also need the `!important` here to be able to override the default hidden behavior on the sphinx rendered scikit-learn.org. See: https://github.com/scikit-learn/scikit-learn/issues/21755 */display: inline-block !important;position: relative;}#sk-container-id-4 div.sk-text-repr-fallback {display: none;}</style><div id=\"sk-container-id-4\" class=\"sk-top-container\"><div class=\"sk-text-repr-fallback\"><pre>BaggingRegressor(base_estimator=DecisionTreeRegressor(max_depth=8),\n",
       "                 n_estimators=8)</pre><b>In a Jupyter environment, please rerun this cell to show the HTML representation or trust the notebook. <br />On GitHub, the HTML representation is unable to render, please try loading this page with nbviewer.org.</b></div><div class=\"sk-container\" hidden><div class=\"sk-item sk-dashed-wrapped\"><div class=\"sk-label-container\"><div class=\"sk-label sk-toggleable\"><input class=\"sk-toggleable__control sk-hidden--visually\" id=\"sk-estimator-id-4\" type=\"checkbox\" ><label for=\"sk-estimator-id-4\" class=\"sk-toggleable__label sk-toggleable__label-arrow\">BaggingRegressor</label><div class=\"sk-toggleable__content\"><pre>BaggingRegressor(base_estimator=DecisionTreeRegressor(max_depth=8),\n",
       "                 n_estimators=8)</pre></div></div></div><div class=\"sk-parallel\"><div class=\"sk-parallel-item\"><div class=\"sk-item\"><div class=\"sk-label-container\"><div class=\"sk-label sk-toggleable\"><input class=\"sk-toggleable__control sk-hidden--visually\" id=\"sk-estimator-id-5\" type=\"checkbox\" ><label for=\"sk-estimator-id-5\" class=\"sk-toggleable__label sk-toggleable__label-arrow\">base_estimator: DecisionTreeRegressor</label><div class=\"sk-toggleable__content\"><pre>DecisionTreeRegressor(max_depth=8)</pre></div></div></div><div class=\"sk-serial\"><div class=\"sk-item\"><div class=\"sk-estimator sk-toggleable\"><input class=\"sk-toggleable__control sk-hidden--visually\" id=\"sk-estimator-id-6\" type=\"checkbox\" ><label for=\"sk-estimator-id-6\" class=\"sk-toggleable__label sk-toggleable__label-arrow\">DecisionTreeRegressor</label><div class=\"sk-toggleable__content\"><pre>DecisionTreeRegressor(max_depth=8)</pre></div></div></div></div></div></div></div></div></div></div>"
      ],
      "text/plain": [
       "BaggingRegressor(base_estimator=DecisionTreeRegressor(max_depth=8),\n",
       "                 n_estimators=8)"
      ]
     },
     "execution_count": 40,
     "metadata": {},
     "output_type": "execute_result"
    }
   ],
   "source": [
    "model_4.fit(x_train,y_train)"
   ]
  },
  {
   "cell_type": "code",
   "execution_count": 41,
   "id": "af943700",
   "metadata": {
    "execution": {
     "iopub.execute_input": "2023-05-23T16:17:35.530762Z",
     "iopub.status.busy": "2023-05-23T16:17:35.530366Z",
     "iopub.status.idle": "2023-05-23T16:17:35.555105Z",
     "shell.execute_reply": "2023-05-23T16:17:35.554076Z"
    },
    "papermill": {
     "duration": 0.048935,
     "end_time": "2023-05-23T16:17:35.557416",
     "exception": false,
     "start_time": "2023-05-23T16:17:35.508481",
     "status": "completed"
    },
    "tags": []
   },
   "outputs": [
    {
     "data": {
      "text/plain": [
       "0.9373304701463737"
      ]
     },
     "execution_count": 41,
     "metadata": {},
     "output_type": "execute_result"
    }
   ],
   "source": [
    "model_4.score(x_train,y_train)"
   ]
  },
  {
   "cell_type": "code",
   "execution_count": 42,
   "id": "f39c0454",
   "metadata": {
    "execution": {
     "iopub.execute_input": "2023-05-23T16:17:35.599914Z",
     "iopub.status.busy": "2023-05-23T16:17:35.599523Z",
     "iopub.status.idle": "2023-05-23T16:17:35.617730Z",
     "shell.execute_reply": "2023-05-23T16:17:35.616552Z"
    },
    "papermill": {
     "duration": 0.044222,
     "end_time": "2023-05-23T16:17:35.621947",
     "exception": false,
     "start_time": "2023-05-23T16:17:35.577725",
     "status": "completed"
    },
    "tags": []
   },
   "outputs": [
    {
     "data": {
      "text/plain": [
       "0.9318291241686573"
      ]
     },
     "execution_count": 42,
     "metadata": {},
     "output_type": "execute_result"
    }
   ],
   "source": [
    "model_4.score(x_test,y_test)"
   ]
  },
  {
   "cell_type": "code",
   "execution_count": 43,
   "id": "d84b0161",
   "metadata": {
    "execution": {
     "iopub.execute_input": "2023-05-23T16:17:35.673923Z",
     "iopub.status.busy": "2023-05-23T16:17:35.672506Z",
     "iopub.status.idle": "2023-05-23T16:17:35.678744Z",
     "shell.execute_reply": "2023-05-23T16:17:35.677427Z"
    },
    "papermill": {
     "duration": 0.034697,
     "end_time": "2023-05-23T16:17:35.680886",
     "exception": false,
     "start_time": "2023-05-23T16:17:35.646189",
     "status": "completed"
    },
    "tags": []
   },
   "outputs": [],
   "source": [
    "from sklearn.ensemble import AdaBoostRegressor"
   ]
  },
  {
   "cell_type": "code",
   "execution_count": 44,
   "id": "4361bfb7",
   "metadata": {
    "execution": {
     "iopub.execute_input": "2023-05-23T16:17:35.732348Z",
     "iopub.status.busy": "2023-05-23T16:17:35.730392Z",
     "iopub.status.idle": "2023-05-23T16:17:35.736386Z",
     "shell.execute_reply": "2023-05-23T16:17:35.735656Z"
    },
    "papermill": {
     "duration": 0.032945,
     "end_time": "2023-05-23T16:17:35.738278",
     "exception": false,
     "start_time": "2023-05-23T16:17:35.705333",
     "status": "completed"
    },
    "tags": []
   },
   "outputs": [],
   "source": [
    "model_5=AdaBoostRegressor(n_estimators=200)"
   ]
  },
  {
   "cell_type": "code",
   "execution_count": 45,
   "id": "96045d66",
   "metadata": {
    "execution": {
     "iopub.execute_input": "2023-05-23T16:17:35.782120Z",
     "iopub.status.busy": "2023-05-23T16:17:35.781694Z",
     "iopub.status.idle": "2023-05-23T16:17:36.377337Z",
     "shell.execute_reply": "2023-05-23T16:17:36.376197Z"
    },
    "papermill": {
     "duration": 0.620227,
     "end_time": "2023-05-23T16:17:36.379439",
     "exception": false,
     "start_time": "2023-05-23T16:17:35.759212",
     "status": "completed"
    },
    "tags": []
   },
   "outputs": [
    {
     "data": {
      "text/html": [
       "<style>#sk-container-id-5 {color: black;background-color: white;}#sk-container-id-5 pre{padding: 0;}#sk-container-id-5 div.sk-toggleable {background-color: white;}#sk-container-id-5 label.sk-toggleable__label {cursor: pointer;display: block;width: 100%;margin-bottom: 0;padding: 0.3em;box-sizing: border-box;text-align: center;}#sk-container-id-5 label.sk-toggleable__label-arrow:before {content: \"▸\";float: left;margin-right: 0.25em;color: #696969;}#sk-container-id-5 label.sk-toggleable__label-arrow:hover:before {color: black;}#sk-container-id-5 div.sk-estimator:hover label.sk-toggleable__label-arrow:before {color: black;}#sk-container-id-5 div.sk-toggleable__content {max-height: 0;max-width: 0;overflow: hidden;text-align: left;background-color: #f0f8ff;}#sk-container-id-5 div.sk-toggleable__content pre {margin: 0.2em;color: black;border-radius: 0.25em;background-color: #f0f8ff;}#sk-container-id-5 input.sk-toggleable__control:checked~div.sk-toggleable__content {max-height: 200px;max-width: 100%;overflow: auto;}#sk-container-id-5 input.sk-toggleable__control:checked~label.sk-toggleable__label-arrow:before {content: \"▾\";}#sk-container-id-5 div.sk-estimator input.sk-toggleable__control:checked~label.sk-toggleable__label {background-color: #d4ebff;}#sk-container-id-5 div.sk-label input.sk-toggleable__control:checked~label.sk-toggleable__label {background-color: #d4ebff;}#sk-container-id-5 input.sk-hidden--visually {border: 0;clip: rect(1px 1px 1px 1px);clip: rect(1px, 1px, 1px, 1px);height: 1px;margin: -1px;overflow: hidden;padding: 0;position: absolute;width: 1px;}#sk-container-id-5 div.sk-estimator {font-family: monospace;background-color: #f0f8ff;border: 1px dotted black;border-radius: 0.25em;box-sizing: border-box;margin-bottom: 0.5em;}#sk-container-id-5 div.sk-estimator:hover {background-color: #d4ebff;}#sk-container-id-5 div.sk-parallel-item::after {content: \"\";width: 100%;border-bottom: 1px solid gray;flex-grow: 1;}#sk-container-id-5 div.sk-label:hover label.sk-toggleable__label {background-color: #d4ebff;}#sk-container-id-5 div.sk-serial::before {content: \"\";position: absolute;border-left: 1px solid gray;box-sizing: border-box;top: 0;bottom: 0;left: 50%;z-index: 0;}#sk-container-id-5 div.sk-serial {display: flex;flex-direction: column;align-items: center;background-color: white;padding-right: 0.2em;padding-left: 0.2em;position: relative;}#sk-container-id-5 div.sk-item {position: relative;z-index: 1;}#sk-container-id-5 div.sk-parallel {display: flex;align-items: stretch;justify-content: center;background-color: white;position: relative;}#sk-container-id-5 div.sk-item::before, #sk-container-id-5 div.sk-parallel-item::before {content: \"\";position: absolute;border-left: 1px solid gray;box-sizing: border-box;top: 0;bottom: 0;left: 50%;z-index: -1;}#sk-container-id-5 div.sk-parallel-item {display: flex;flex-direction: column;z-index: 1;position: relative;background-color: white;}#sk-container-id-5 div.sk-parallel-item:first-child::after {align-self: flex-end;width: 50%;}#sk-container-id-5 div.sk-parallel-item:last-child::after {align-self: flex-start;width: 50%;}#sk-container-id-5 div.sk-parallel-item:only-child::after {width: 0;}#sk-container-id-5 div.sk-dashed-wrapped {border: 1px dashed gray;margin: 0 0.4em 0.5em 0.4em;box-sizing: border-box;padding-bottom: 0.4em;background-color: white;}#sk-container-id-5 div.sk-label label {font-family: monospace;font-weight: bold;display: inline-block;line-height: 1.2em;}#sk-container-id-5 div.sk-label-container {text-align: center;}#sk-container-id-5 div.sk-container {/* jupyter's `normalize.less` sets `[hidden] { display: none; }` but bootstrap.min.css set `[hidden] { display: none !important; }` so we also need the `!important` here to be able to override the default hidden behavior on the sphinx rendered scikit-learn.org. See: https://github.com/scikit-learn/scikit-learn/issues/21755 */display: inline-block !important;position: relative;}#sk-container-id-5 div.sk-text-repr-fallback {display: none;}</style><div id=\"sk-container-id-5\" class=\"sk-top-container\"><div class=\"sk-text-repr-fallback\"><pre>AdaBoostRegressor(n_estimators=200)</pre><b>In a Jupyter environment, please rerun this cell to show the HTML representation or trust the notebook. <br />On GitHub, the HTML representation is unable to render, please try loading this page with nbviewer.org.</b></div><div class=\"sk-container\" hidden><div class=\"sk-item\"><div class=\"sk-estimator sk-toggleable\"><input class=\"sk-toggleable__control sk-hidden--visually\" id=\"sk-estimator-id-7\" type=\"checkbox\" checked><label for=\"sk-estimator-id-7\" class=\"sk-toggleable__label sk-toggleable__label-arrow\">AdaBoostRegressor</label><div class=\"sk-toggleable__content\"><pre>AdaBoostRegressor(n_estimators=200)</pre></div></div></div></div></div>"
      ],
      "text/plain": [
       "AdaBoostRegressor(n_estimators=200)"
      ]
     },
     "execution_count": 45,
     "metadata": {},
     "output_type": "execute_result"
    }
   ],
   "source": [
    "model_5.fit(x_train,y_train)"
   ]
  },
  {
   "cell_type": "code",
   "execution_count": 46,
   "id": "33d02d5d",
   "metadata": {
    "execution": {
     "iopub.execute_input": "2023-05-23T16:17:36.422424Z",
     "iopub.status.busy": "2023-05-23T16:17:36.421813Z",
     "iopub.status.idle": "2023-05-23T16:17:36.469489Z",
     "shell.execute_reply": "2023-05-23T16:17:36.468293Z"
    },
    "papermill": {
     "duration": 0.071856,
     "end_time": "2023-05-23T16:17:36.471782",
     "exception": false,
     "start_time": "2023-05-23T16:17:36.399926",
     "status": "completed"
    },
    "tags": []
   },
   "outputs": [
    {
     "data": {
      "text/plain": [
       "0.9079940486612639"
      ]
     },
     "execution_count": 46,
     "metadata": {},
     "output_type": "execute_result"
    }
   ],
   "source": [
    "model_5.score(x_train,y_train)"
   ]
  },
  {
   "cell_type": "code",
   "execution_count": 47,
   "id": "09d131ef",
   "metadata": {
    "execution": {
     "iopub.execute_input": "2023-05-23T16:17:36.515069Z",
     "iopub.status.busy": "2023-05-23T16:17:36.514654Z",
     "iopub.status.idle": "2023-05-23T16:17:36.539937Z",
     "shell.execute_reply": "2023-05-23T16:17:36.538901Z"
    },
    "papermill": {
     "duration": 0.049613,
     "end_time": "2023-05-23T16:17:36.542229",
     "exception": false,
     "start_time": "2023-05-23T16:17:36.492616",
     "status": "completed"
    },
    "tags": []
   },
   "outputs": [
    {
     "data": {
      "text/plain": [
       "0.9070135173581132"
      ]
     },
     "execution_count": 47,
     "metadata": {},
     "output_type": "execute_result"
    }
   ],
   "source": [
    "model_5.score(x_test,y_test)"
   ]
  },
  {
   "cell_type": "markdown",
   "id": "649dca61",
   "metadata": {
    "papermill": {
     "duration": 0.020345,
     "end_time": "2023-05-23T16:17:36.583209",
     "exception": false,
     "start_time": "2023-05-23T16:17:36.562864",
     "status": "completed"
    },
    "tags": []
   },
   "source": [
    "#### therefore the best model is bagging regression with score of 0.937077520636409 in train data and 0.9317676902376177 in test data\n"
   ]
  }
 ],
 "metadata": {
  "kernelspec": {
   "display_name": "Python 3",
   "language": "python",
   "name": "python3"
  },
  "language_info": {
   "codemirror_mode": {
    "name": "ipython",
    "version": 3
   },
   "file_extension": ".py",
   "mimetype": "text/x-python",
   "name": "python",
   "nbconvert_exporter": "python",
   "pygments_lexer": "ipython3",
   "version": "3.10.10"
  },
  "papermill": {
   "default_parameters": {},
   "duration": 25.12596,
   "end_time": "2023-05-23T16:17:37.727111",
   "environment_variables": {},
   "exception": null,
   "input_path": "__notebook__.ipynb",
   "output_path": "__notebook__.ipynb",
   "parameters": {},
   "start_time": "2023-05-23T16:17:12.601151",
   "version": "2.4.0"
  }
 },
 "nbformat": 4,
 "nbformat_minor": 5
}
